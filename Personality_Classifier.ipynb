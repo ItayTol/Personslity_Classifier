{
  "nbformat": 4,
  "nbformat_minor": 0,
  "metadata": {
    "colab": {
      "provenance": [],
      "toc_visible": true,
      "gpuType": "T4",
      "include_colab_link": true
    },
    "kernelspec": {
      "name": "python3",
      "display_name": "Python 3"
    },
    "language_info": {
      "name": "python"
    },
    "accelerator": "GPU"
  },
  "cells": [
    {
      "cell_type": "markdown",
      "metadata": {
        "id": "view-in-github",
        "colab_type": "text"
      },
      "source": [
        "<a href=\"https://colab.research.google.com/github/ItayTol/Personslity_Classifier/blob/main/Personality__Classifier.ipynb\" target=\"_parent\"><img src=\"https://colab.research.google.com/assets/colab-badge.svg\" alt=\"Open In Colab\"/></a>"
      ]
    },
    {
      "cell_type": "markdown",
      "source": [
        "# EDA & Preproessing"
      ],
      "metadata": {
        "id": "iWHiHR-VwQNA"
      }
    },
    {
      "cell_type": "markdown",
      "source": [
        "For loading data from huggingface"
      ],
      "metadata": {
        "id": "OenrMzgky1eS"
      }
    },
    {
      "cell_type": "code",
      "source": [
        "!pip install datasets --quiet"
      ],
      "metadata": {
        "id": "UD8kD-SdOgA_"
      },
      "execution_count": 42,
      "outputs": []
    },
    {
      "cell_type": "code",
      "execution_count": 43,
      "metadata": {
        "id": "BHhHtOzJROfH"
      },
      "outputs": [],
      "source": [
        "from datasets import load_dataset\n",
        "import matplotlib.pyplot as plt, seaborn as sns, pandas as pd, os\n",
        "from tensorflow.keras.utils import text_dataset_from_directory, plot_model\n",
        "from tensorflow.keras.metrics import Precision, Recall, Accuracy\n",
        "import tensorflow as tf"
      ]
    },
    {
      "cell_type": "markdown",
      "source": [
        "Importing our raw dataset"
      ],
      "metadata": {
        "id": "mWBAA04Rg2ir"
      }
    },
    {
      "cell_type": "code",
      "source": [
        "df_raw  = pd.DataFrame(load_dataset(\"Fatima0923/Automated-Personality-Prediction\", split='all'))"
      ],
      "metadata": {
        "id": "tV5v6dJ2CPN1"
      },
      "execution_count": 44,
      "outputs": []
    },
    {
      "cell_type": "code",
      "source": [
        "df_raw.head(5)"
      ],
      "metadata": {
        "colab": {
          "base_uri": "https://localhost:8080/",
          "height": 293
        },
        "id": "aZsMTeBZ8eTb",
        "outputId": "42f7bcfd-f8c8-41e4-974e-cc386e29463e"
      },
      "execution_count": 45,
      "outputs": [
        {
          "output_type": "execute_result",
          "data": {
            "text/plain": [
              "                                                text  agreeableness  openness  \\\n",
              "0  his name was kim kimble originally wow thats s...            9.0      61.0   \n",
              "1  theyre better than the normal posts on ryugioh...           50.0      85.0   \n",
              "2  how the fuck does this even happen hi youre cu...           15.0      85.0   \n",
              "3  it probably does ive learned a lot about mysel...           71.0      53.0   \n",
              "4           yea those are the same sound to me still           64.0      44.0   \n",
              "\n",
              "   conscientiousness  extraversion  neuroticism  \n",
              "0               13.0           4.0         72.0  \n",
              "1               50.0          85.0         50.0  \n",
              "2               15.0          85.0         15.0  \n",
              "3               17.0           3.0         31.0  \n",
              "4               33.0           8.0         88.0  "
            ],
            "text/html": [
              "\n",
              "  <div id=\"df-55d458b2-e15d-414f-8b9d-9ab9e4caf9ab\" class=\"colab-df-container\">\n",
              "    <div>\n",
              "<style scoped>\n",
              "    .dataframe tbody tr th:only-of-type {\n",
              "        vertical-align: middle;\n",
              "    }\n",
              "\n",
              "    .dataframe tbody tr th {\n",
              "        vertical-align: top;\n",
              "    }\n",
              "\n",
              "    .dataframe thead th {\n",
              "        text-align: right;\n",
              "    }\n",
              "</style>\n",
              "<table border=\"1\" class=\"dataframe\">\n",
              "  <thead>\n",
              "    <tr style=\"text-align: right;\">\n",
              "      <th></th>\n",
              "      <th>text</th>\n",
              "      <th>agreeableness</th>\n",
              "      <th>openness</th>\n",
              "      <th>conscientiousness</th>\n",
              "      <th>extraversion</th>\n",
              "      <th>neuroticism</th>\n",
              "    </tr>\n",
              "  </thead>\n",
              "  <tbody>\n",
              "    <tr>\n",
              "      <th>0</th>\n",
              "      <td>his name was kim kimble originally wow thats s...</td>\n",
              "      <td>9.0</td>\n",
              "      <td>61.0</td>\n",
              "      <td>13.0</td>\n",
              "      <td>4.0</td>\n",
              "      <td>72.0</td>\n",
              "    </tr>\n",
              "    <tr>\n",
              "      <th>1</th>\n",
              "      <td>theyre better than the normal posts on ryugioh...</td>\n",
              "      <td>50.0</td>\n",
              "      <td>85.0</td>\n",
              "      <td>50.0</td>\n",
              "      <td>85.0</td>\n",
              "      <td>50.0</td>\n",
              "    </tr>\n",
              "    <tr>\n",
              "      <th>2</th>\n",
              "      <td>how the fuck does this even happen hi youre cu...</td>\n",
              "      <td>15.0</td>\n",
              "      <td>85.0</td>\n",
              "      <td>15.0</td>\n",
              "      <td>85.0</td>\n",
              "      <td>15.0</td>\n",
              "    </tr>\n",
              "    <tr>\n",
              "      <th>3</th>\n",
              "      <td>it probably does ive learned a lot about mysel...</td>\n",
              "      <td>71.0</td>\n",
              "      <td>53.0</td>\n",
              "      <td>17.0</td>\n",
              "      <td>3.0</td>\n",
              "      <td>31.0</td>\n",
              "    </tr>\n",
              "    <tr>\n",
              "      <th>4</th>\n",
              "      <td>yea those are the same sound to me still</td>\n",
              "      <td>64.0</td>\n",
              "      <td>44.0</td>\n",
              "      <td>33.0</td>\n",
              "      <td>8.0</td>\n",
              "      <td>88.0</td>\n",
              "    </tr>\n",
              "  </tbody>\n",
              "</table>\n",
              "</div>\n",
              "    <div class=\"colab-df-buttons\">\n",
              "\n",
              "  <div class=\"colab-df-container\">\n",
              "    <button class=\"colab-df-convert\" onclick=\"convertToInteractive('df-55d458b2-e15d-414f-8b9d-9ab9e4caf9ab')\"\n",
              "            title=\"Convert this dataframe to an interactive table.\"\n",
              "            style=\"display:none;\">\n",
              "\n",
              "  <svg xmlns=\"http://www.w3.org/2000/svg\" height=\"24px\" viewBox=\"0 -960 960 960\">\n",
              "    <path d=\"M120-120v-720h720v720H120Zm60-500h600v-160H180v160Zm220 220h160v-160H400v160Zm0 220h160v-160H400v160ZM180-400h160v-160H180v160Zm440 0h160v-160H620v160ZM180-180h160v-160H180v160Zm440 0h160v-160H620v160Z\"/>\n",
              "  </svg>\n",
              "    </button>\n",
              "\n",
              "  <style>\n",
              "    .colab-df-container {\n",
              "      display:flex;\n",
              "      gap: 12px;\n",
              "    }\n",
              "\n",
              "    .colab-df-convert {\n",
              "      background-color: #E8F0FE;\n",
              "      border: none;\n",
              "      border-radius: 50%;\n",
              "      cursor: pointer;\n",
              "      display: none;\n",
              "      fill: #1967D2;\n",
              "      height: 32px;\n",
              "      padding: 0 0 0 0;\n",
              "      width: 32px;\n",
              "    }\n",
              "\n",
              "    .colab-df-convert:hover {\n",
              "      background-color: #E2EBFA;\n",
              "      box-shadow: 0px 1px 2px rgba(60, 64, 67, 0.3), 0px 1px 3px 1px rgba(60, 64, 67, 0.15);\n",
              "      fill: #174EA6;\n",
              "    }\n",
              "\n",
              "    .colab-df-buttons div {\n",
              "      margin-bottom: 4px;\n",
              "    }\n",
              "\n",
              "    [theme=dark] .colab-df-convert {\n",
              "      background-color: #3B4455;\n",
              "      fill: #D2E3FC;\n",
              "    }\n",
              "\n",
              "    [theme=dark] .colab-df-convert:hover {\n",
              "      background-color: #434B5C;\n",
              "      box-shadow: 0px 1px 3px 1px rgba(0, 0, 0, 0.15);\n",
              "      filter: drop-shadow(0px 1px 2px rgba(0, 0, 0, 0.3));\n",
              "      fill: #FFFFFF;\n",
              "    }\n",
              "  </style>\n",
              "\n",
              "    <script>\n",
              "      const buttonEl =\n",
              "        document.querySelector('#df-55d458b2-e15d-414f-8b9d-9ab9e4caf9ab button.colab-df-convert');\n",
              "      buttonEl.style.display =\n",
              "        google.colab.kernel.accessAllowed ? 'block' : 'none';\n",
              "\n",
              "      async function convertToInteractive(key) {\n",
              "        const element = document.querySelector('#df-55d458b2-e15d-414f-8b9d-9ab9e4caf9ab');\n",
              "        const dataTable =\n",
              "          await google.colab.kernel.invokeFunction('convertToInteractive',\n",
              "                                                    [key], {});\n",
              "        if (!dataTable) return;\n",
              "\n",
              "        const docLinkHtml = 'Like what you see? Visit the ' +\n",
              "          '<a target=\"_blank\" href=https://colab.research.google.com/notebooks/data_table.ipynb>data table notebook</a>'\n",
              "          + ' to learn more about interactive tables.';\n",
              "        element.innerHTML = '';\n",
              "        dataTable['output_type'] = 'display_data';\n",
              "        await google.colab.output.renderOutput(dataTable, element);\n",
              "        const docLink = document.createElement('div');\n",
              "        docLink.innerHTML = docLinkHtml;\n",
              "        element.appendChild(docLink);\n",
              "      }\n",
              "    </script>\n",
              "  </div>\n",
              "\n",
              "\n",
              "<div id=\"df-d6bc46a7-e84c-44b0-9c51-b5fb97ea487b\">\n",
              "  <button class=\"colab-df-quickchart\" onclick=\"quickchart('df-d6bc46a7-e84c-44b0-9c51-b5fb97ea487b')\"\n",
              "            title=\"Suggest charts\"\n",
              "            style=\"display:none;\">\n",
              "\n",
              "<svg xmlns=\"http://www.w3.org/2000/svg\" height=\"24px\"viewBox=\"0 0 24 24\"\n",
              "     width=\"24px\">\n",
              "    <g>\n",
              "        <path d=\"M19 3H5c-1.1 0-2 .9-2 2v14c0 1.1.9 2 2 2h14c1.1 0 2-.9 2-2V5c0-1.1-.9-2-2-2zM9 17H7v-7h2v7zm4 0h-2V7h2v10zm4 0h-2v-4h2v4z\"/>\n",
              "    </g>\n",
              "</svg>\n",
              "  </button>\n",
              "\n",
              "<style>\n",
              "  .colab-df-quickchart {\n",
              "      --bg-color: #E8F0FE;\n",
              "      --fill-color: #1967D2;\n",
              "      --hover-bg-color: #E2EBFA;\n",
              "      --hover-fill-color: #174EA6;\n",
              "      --disabled-fill-color: #AAA;\n",
              "      --disabled-bg-color: #DDD;\n",
              "  }\n",
              "\n",
              "  [theme=dark] .colab-df-quickchart {\n",
              "      --bg-color: #3B4455;\n",
              "      --fill-color: #D2E3FC;\n",
              "      --hover-bg-color: #434B5C;\n",
              "      --hover-fill-color: #FFFFFF;\n",
              "      --disabled-bg-color: #3B4455;\n",
              "      --disabled-fill-color: #666;\n",
              "  }\n",
              "\n",
              "  .colab-df-quickchart {\n",
              "    background-color: var(--bg-color);\n",
              "    border: none;\n",
              "    border-radius: 50%;\n",
              "    cursor: pointer;\n",
              "    display: none;\n",
              "    fill: var(--fill-color);\n",
              "    height: 32px;\n",
              "    padding: 0;\n",
              "    width: 32px;\n",
              "  }\n",
              "\n",
              "  .colab-df-quickchart:hover {\n",
              "    background-color: var(--hover-bg-color);\n",
              "    box-shadow: 0 1px 2px rgba(60, 64, 67, 0.3), 0 1px 3px 1px rgba(60, 64, 67, 0.15);\n",
              "    fill: var(--button-hover-fill-color);\n",
              "  }\n",
              "\n",
              "  .colab-df-quickchart-complete:disabled,\n",
              "  .colab-df-quickchart-complete:disabled:hover {\n",
              "    background-color: var(--disabled-bg-color);\n",
              "    fill: var(--disabled-fill-color);\n",
              "    box-shadow: none;\n",
              "  }\n",
              "\n",
              "  .colab-df-spinner {\n",
              "    border: 2px solid var(--fill-color);\n",
              "    border-color: transparent;\n",
              "    border-bottom-color: var(--fill-color);\n",
              "    animation:\n",
              "      spin 1s steps(1) infinite;\n",
              "  }\n",
              "\n",
              "  @keyframes spin {\n",
              "    0% {\n",
              "      border-color: transparent;\n",
              "      border-bottom-color: var(--fill-color);\n",
              "      border-left-color: var(--fill-color);\n",
              "    }\n",
              "    20% {\n",
              "      border-color: transparent;\n",
              "      border-left-color: var(--fill-color);\n",
              "      border-top-color: var(--fill-color);\n",
              "    }\n",
              "    30% {\n",
              "      border-color: transparent;\n",
              "      border-left-color: var(--fill-color);\n",
              "      border-top-color: var(--fill-color);\n",
              "      border-right-color: var(--fill-color);\n",
              "    }\n",
              "    40% {\n",
              "      border-color: transparent;\n",
              "      border-right-color: var(--fill-color);\n",
              "      border-top-color: var(--fill-color);\n",
              "    }\n",
              "    60% {\n",
              "      border-color: transparent;\n",
              "      border-right-color: var(--fill-color);\n",
              "    }\n",
              "    80% {\n",
              "      border-color: transparent;\n",
              "      border-right-color: var(--fill-color);\n",
              "      border-bottom-color: var(--fill-color);\n",
              "    }\n",
              "    90% {\n",
              "      border-color: transparent;\n",
              "      border-bottom-color: var(--fill-color);\n",
              "    }\n",
              "  }\n",
              "</style>\n",
              "\n",
              "  <script>\n",
              "    async function quickchart(key) {\n",
              "      const quickchartButtonEl =\n",
              "        document.querySelector('#' + key + ' button');\n",
              "      quickchartButtonEl.disabled = true;  // To prevent multiple clicks.\n",
              "      quickchartButtonEl.classList.add('colab-df-spinner');\n",
              "      try {\n",
              "        const charts = await google.colab.kernel.invokeFunction(\n",
              "            'suggestCharts', [key], {});\n",
              "      } catch (error) {\n",
              "        console.error('Error during call to suggestCharts:', error);\n",
              "      }\n",
              "      quickchartButtonEl.classList.remove('colab-df-spinner');\n",
              "      quickchartButtonEl.classList.add('colab-df-quickchart-complete');\n",
              "    }\n",
              "    (() => {\n",
              "      let quickchartButtonEl =\n",
              "        document.querySelector('#df-d6bc46a7-e84c-44b0-9c51-b5fb97ea487b button');\n",
              "      quickchartButtonEl.style.display =\n",
              "        google.colab.kernel.accessAllowed ? 'block' : 'none';\n",
              "    })();\n",
              "  </script>\n",
              "</div>\n",
              "\n",
              "    </div>\n",
              "  </div>\n"
            ],
            "application/vnd.google.colaboratory.intrinsic+json": {
              "type": "dataframe",
              "variable_name": "df_raw",
              "summary": "{\n  \"name\": \"df_raw\",\n  \"rows\": 20877,\n  \"fields\": [\n    {\n      \"column\": \"text\",\n      \"properties\": {\n        \"dtype\": \"string\",\n        \"num_unique_values\": 14221,\n        \"samples\": [\n          \"many reasons some of us reread not just once but often and we may want to be able to look back through a particular book at a particular moment or have it on the shelf for other family members to browse some of us may not want to wait until a library has something available it may be a very current work or we may just be in the mood for that book at that moment or we want to take it on holiday\",\n          \"ahaha no my boss is an typemention his boss is an typemention maybe they tolerate me but im not sure they like me they just need me haha\",\n          \"some might feel their love is more specialuniqueclose and that there is some magical solution where they can have it all the true answer is cold hard logic and it is a hard pill to swallow sometimes you cannot compromise on kids someone will end up miserablethe beauty of having such a big sub imo is that a few people can take time to write a heartfeltindividualized answer to that person show them some care and empathy that they need rather than just saying break up duh if i get sick of reading those what do i do posts i just dont read them that day other days i might feel more empathetic or relating to ops post and want to reply we can share the work amongst our subscribers and help a lot of people realize their bright cf future too edit a word\"\n        ],\n        \"semantic_type\": \"\",\n        \"description\": \"\"\n      }\n    },\n    {\n      \"column\": \"agreeableness\",\n      \"properties\": {\n        \"dtype\": \"number\",\n        \"std\": 29.451380046425033,\n        \"min\": 0.0,\n        \"max\": 99.0,\n        \"num_unique_values\": 57,\n        \"samples\": [\n          9.0,\n          79.0,\n          89.0\n        ],\n        \"semantic_type\": \"\",\n        \"description\": \"\"\n      }\n    },\n    {\n      \"column\": \"openness\",\n      \"properties\": {\n        \"dtype\": \"number\",\n        \"std\": 22.80936945413071,\n        \"min\": 9.0,\n        \"max\": 98.0,\n        \"num_unique_values\": 50,\n        \"samples\": [\n          59.0,\n          19.0,\n          71.0\n        ],\n        \"semantic_type\": \"\",\n        \"description\": \"\"\n      }\n    },\n    {\n      \"column\": \"conscientiousness\",\n      \"properties\": {\n        \"dtype\": \"number\",\n        \"std\": 27.568727920517844,\n        \"min\": 1.0,\n        \"max\": 98.0,\n        \"num_unique_values\": 59,\n        \"samples\": [\n          13.0,\n          86.0,\n          4.0\n        ],\n        \"semantic_type\": \"\",\n        \"description\": \"\"\n      }\n    },\n    {\n      \"column\": \"extraversion\",\n      \"properties\": {\n        \"dtype\": \"number\",\n        \"std\": 30.619385010821222,\n        \"min\": 0.0,\n        \"max\": 99.0,\n        \"num_unique_values\": 51,\n        \"samples\": [\n          33.0,\n          26.0,\n          41.0\n        ],\n        \"semantic_type\": \"\",\n        \"description\": \"\"\n      }\n    },\n    {\n      \"column\": \"neuroticism\",\n      \"properties\": {\n        \"dtype\": \"number\",\n        \"std\": 28.056180850780272,\n        \"min\": 0.0,\n        \"max\": 99.0,\n        \"num_unique_values\": 68,\n        \"samples\": [\n          79.0,\n          41.0,\n          88.0\n        ],\n        \"semantic_type\": \"\",\n        \"description\": \"\"\n      }\n    }\n  ]\n}"
            }
          },
          "metadata": {},
          "execution_count": 45
        }
      ]
    },
    {
      "cell_type": "markdown",
      "source": [
        "At first look it seems there are 20,877 texts in the data"
      ],
      "metadata": {
        "id": "jEHmDu3hAtAy"
      }
    },
    {
      "cell_type": "code",
      "source": [
        "print('Number of records:', df_raw.shape[0])"
      ],
      "metadata": {
        "colab": {
          "base_uri": "https://localhost:8080/"
        },
        "id": "iSB6ykmjAeII",
        "outputId": "ef907890-5712-446d-e5c4-ecd5c3fa78a4"
      },
      "execution_count": 46,
      "outputs": [
        {
          "output_type": "stream",
          "name": "stdout",
          "text": [
            "Number of records: 20877\n"
          ]
        }
      ]
    },
    {
      "cell_type": "markdown",
      "source": [
        "## Removing duplicates records"
      ],
      "metadata": {
        "id": "VjhArdrpdc1c"
      }
    },
    {
      "cell_type": "markdown",
      "source": [
        "As we look closer at the data, we spot several records that repeats tens of times with the same scores\n",
        "\n",
        "For example, the sentence 'gop math wrong wrong right' repeats 20 times"
      ],
      "metadata": {
        "id": "A315WqIiekoU"
      }
    },
    {
      "cell_type": "code",
      "source": [
        "duplicates_example = df_raw[df_raw['text'] == 'gop math wrong wrong right'].reset_index()\n",
        "print(f\"'gop math wrong wrong right' appears in dataset {len(duplicates_example)} times\")"
      ],
      "metadata": {
        "colab": {
          "base_uri": "https://localhost:8080/"
        },
        "id": "dLwsf4b4f3wO",
        "outputId": "5515c35d-77fc-4856-d3ff-9fc9bbef64ae"
      },
      "execution_count": 47,
      "outputs": [
        {
          "output_type": "stream",
          "name": "stdout",
          "text": [
            "'gop math wrong wrong right' appears in dataset 20 times\n"
          ]
        }
      ]
    },
    {
      "cell_type": "markdown",
      "source": [
        "We'll remove duplicates from data"
      ],
      "metadata": {
        "id": "BL90DyW9ii8f"
      }
    },
    {
      "cell_type": "code",
      "source": [
        "df_raw_uniques = df_raw.drop_duplicates()\n",
        "df_raw_uniques=df_raw_uniques.reset_index(drop=True)"
      ],
      "metadata": {
        "id": "vpsgNDZgiiK3"
      },
      "execution_count": 48,
      "outputs": []
    },
    {
      "cell_type": "markdown",
      "source": [
        "After removing duplicates, in the complete dataset there are 17,009 non-repeating records"
      ],
      "metadata": {
        "id": "atzwbBucznbA"
      }
    },
    {
      "cell_type": "code",
      "source": [
        "print(\"Number of unique records in the complete dataset:\", df_raw_uniques.shape[0])"
      ],
      "metadata": {
        "colab": {
          "base_uri": "https://localhost:8080/"
        },
        "id": "6BlaeQ_8zJ4p",
        "outputId": "8d01f01b-408e-4efb-8a31-6213ef68d1b5"
      },
      "execution_count": 49,
      "outputs": [
        {
          "output_type": "stream",
          "name": "stdout",
          "text": [
            "Number of unique records in the complete dataset: 17009\n"
          ]
        }
      ]
    },
    {
      "cell_type": "markdown",
      "source": [
        "## Customization of Extraversion"
      ],
      "metadata": {
        "id": "m2ovQ3CodrUF"
      }
    },
    {
      "cell_type": "markdown",
      "source": [
        "In this work there will be an attempt to classify the **extraversion**\n",
        "\n",
        "The numerical values of extraversion will be replaced by 2 classes: 'Introverted', 'Extroverted'.\n",
        "*   Introverted -> under 50 points\n",
        "*   Extroverted -> equal to or above 50 points  \n",
        "\n",
        "\n"
      ],
      "metadata": {
        "id": "dHKuZx-xY3o9"
      }
    },
    {
      "cell_type": "code",
      "source": [
        "def float_to_label(df):\n",
        "  bins = [-1, 50, 100]\n",
        "  labels = ['Introverted', 'Extroverted']\n",
        "  s = pd.cut(df['extraversion'], bins=bins, labels=labels).to_list()\n",
        "  return s\n",
        "\n",
        "df = pd.DataFrame()\n",
        "df['text']=df_raw_uniques['text'].copy()\n",
        "df['label']=float_to_label(df_raw_uniques)\n",
        "\n",
        "mapping_labels = {'Introverted':0, 'Extroverted':1}\n",
        "df['label_code'] = df['label'].map(mapping_labels)\n",
        "\n",
        "df[['text', 'label_code']].head(5)"
      ],
      "metadata": {
        "colab": {
          "base_uri": "https://localhost:8080/",
          "height": 206
        },
        "id": "cGmb11R-2QBo",
        "outputId": "fb9cc40f-a9cb-4465-f409-fc23fdbd4737"
      },
      "execution_count": 51,
      "outputs": [
        {
          "output_type": "execute_result",
          "data": {
            "text/plain": [
              "                                                text  label_code\n",
              "0  his name was kim kimble originally wow thats s...           0\n",
              "1  theyre better than the normal posts on ryugioh...           1\n",
              "2  how the fuck does this even happen hi youre cu...           1\n",
              "3  it probably does ive learned a lot about mysel...           0\n",
              "4           yea those are the same sound to me still           0"
            ],
            "text/html": [
              "\n",
              "  <div id=\"df-062d818a-6daa-4de5-be1e-937101db3ef0\" class=\"colab-df-container\">\n",
              "    <div>\n",
              "<style scoped>\n",
              "    .dataframe tbody tr th:only-of-type {\n",
              "        vertical-align: middle;\n",
              "    }\n",
              "\n",
              "    .dataframe tbody tr th {\n",
              "        vertical-align: top;\n",
              "    }\n",
              "\n",
              "    .dataframe thead th {\n",
              "        text-align: right;\n",
              "    }\n",
              "</style>\n",
              "<table border=\"1\" class=\"dataframe\">\n",
              "  <thead>\n",
              "    <tr style=\"text-align: right;\">\n",
              "      <th></th>\n",
              "      <th>text</th>\n",
              "      <th>label_code</th>\n",
              "    </tr>\n",
              "  </thead>\n",
              "  <tbody>\n",
              "    <tr>\n",
              "      <th>0</th>\n",
              "      <td>his name was kim kimble originally wow thats s...</td>\n",
              "      <td>0</td>\n",
              "    </tr>\n",
              "    <tr>\n",
              "      <th>1</th>\n",
              "      <td>theyre better than the normal posts on ryugioh...</td>\n",
              "      <td>1</td>\n",
              "    </tr>\n",
              "    <tr>\n",
              "      <th>2</th>\n",
              "      <td>how the fuck does this even happen hi youre cu...</td>\n",
              "      <td>1</td>\n",
              "    </tr>\n",
              "    <tr>\n",
              "      <th>3</th>\n",
              "      <td>it probably does ive learned a lot about mysel...</td>\n",
              "      <td>0</td>\n",
              "    </tr>\n",
              "    <tr>\n",
              "      <th>4</th>\n",
              "      <td>yea those are the same sound to me still</td>\n",
              "      <td>0</td>\n",
              "    </tr>\n",
              "  </tbody>\n",
              "</table>\n",
              "</div>\n",
              "    <div class=\"colab-df-buttons\">\n",
              "\n",
              "  <div class=\"colab-df-container\">\n",
              "    <button class=\"colab-df-convert\" onclick=\"convertToInteractive('df-062d818a-6daa-4de5-be1e-937101db3ef0')\"\n",
              "            title=\"Convert this dataframe to an interactive table.\"\n",
              "            style=\"display:none;\">\n",
              "\n",
              "  <svg xmlns=\"http://www.w3.org/2000/svg\" height=\"24px\" viewBox=\"0 -960 960 960\">\n",
              "    <path d=\"M120-120v-720h720v720H120Zm60-500h600v-160H180v160Zm220 220h160v-160H400v160Zm0 220h160v-160H400v160ZM180-400h160v-160H180v160Zm440 0h160v-160H620v160ZM180-180h160v-160H180v160Zm440 0h160v-160H620v160Z\"/>\n",
              "  </svg>\n",
              "    </button>\n",
              "\n",
              "  <style>\n",
              "    .colab-df-container {\n",
              "      display:flex;\n",
              "      gap: 12px;\n",
              "    }\n",
              "\n",
              "    .colab-df-convert {\n",
              "      background-color: #E8F0FE;\n",
              "      border: none;\n",
              "      border-radius: 50%;\n",
              "      cursor: pointer;\n",
              "      display: none;\n",
              "      fill: #1967D2;\n",
              "      height: 32px;\n",
              "      padding: 0 0 0 0;\n",
              "      width: 32px;\n",
              "    }\n",
              "\n",
              "    .colab-df-convert:hover {\n",
              "      background-color: #E2EBFA;\n",
              "      box-shadow: 0px 1px 2px rgba(60, 64, 67, 0.3), 0px 1px 3px 1px rgba(60, 64, 67, 0.15);\n",
              "      fill: #174EA6;\n",
              "    }\n",
              "\n",
              "    .colab-df-buttons div {\n",
              "      margin-bottom: 4px;\n",
              "    }\n",
              "\n",
              "    [theme=dark] .colab-df-convert {\n",
              "      background-color: #3B4455;\n",
              "      fill: #D2E3FC;\n",
              "    }\n",
              "\n",
              "    [theme=dark] .colab-df-convert:hover {\n",
              "      background-color: #434B5C;\n",
              "      box-shadow: 0px 1px 3px 1px rgba(0, 0, 0, 0.15);\n",
              "      filter: drop-shadow(0px 1px 2px rgba(0, 0, 0, 0.3));\n",
              "      fill: #FFFFFF;\n",
              "    }\n",
              "  </style>\n",
              "\n",
              "    <script>\n",
              "      const buttonEl =\n",
              "        document.querySelector('#df-062d818a-6daa-4de5-be1e-937101db3ef0 button.colab-df-convert');\n",
              "      buttonEl.style.display =\n",
              "        google.colab.kernel.accessAllowed ? 'block' : 'none';\n",
              "\n",
              "      async function convertToInteractive(key) {\n",
              "        const element = document.querySelector('#df-062d818a-6daa-4de5-be1e-937101db3ef0');\n",
              "        const dataTable =\n",
              "          await google.colab.kernel.invokeFunction('convertToInteractive',\n",
              "                                                    [key], {});\n",
              "        if (!dataTable) return;\n",
              "\n",
              "        const docLinkHtml = 'Like what you see? Visit the ' +\n",
              "          '<a target=\"_blank\" href=https://colab.research.google.com/notebooks/data_table.ipynb>data table notebook</a>'\n",
              "          + ' to learn more about interactive tables.';\n",
              "        element.innerHTML = '';\n",
              "        dataTable['output_type'] = 'display_data';\n",
              "        await google.colab.output.renderOutput(dataTable, element);\n",
              "        const docLink = document.createElement('div');\n",
              "        docLink.innerHTML = docLinkHtml;\n",
              "        element.appendChild(docLink);\n",
              "      }\n",
              "    </script>\n",
              "  </div>\n",
              "\n",
              "\n",
              "<div id=\"df-2c22b60a-68c7-4f08-97f1-7abf508500c3\">\n",
              "  <button class=\"colab-df-quickchart\" onclick=\"quickchart('df-2c22b60a-68c7-4f08-97f1-7abf508500c3')\"\n",
              "            title=\"Suggest charts\"\n",
              "            style=\"display:none;\">\n",
              "\n",
              "<svg xmlns=\"http://www.w3.org/2000/svg\" height=\"24px\"viewBox=\"0 0 24 24\"\n",
              "     width=\"24px\">\n",
              "    <g>\n",
              "        <path d=\"M19 3H5c-1.1 0-2 .9-2 2v14c0 1.1.9 2 2 2h14c1.1 0 2-.9 2-2V5c0-1.1-.9-2-2-2zM9 17H7v-7h2v7zm4 0h-2V7h2v10zm4 0h-2v-4h2v4z\"/>\n",
              "    </g>\n",
              "</svg>\n",
              "  </button>\n",
              "\n",
              "<style>\n",
              "  .colab-df-quickchart {\n",
              "      --bg-color: #E8F0FE;\n",
              "      --fill-color: #1967D2;\n",
              "      --hover-bg-color: #E2EBFA;\n",
              "      --hover-fill-color: #174EA6;\n",
              "      --disabled-fill-color: #AAA;\n",
              "      --disabled-bg-color: #DDD;\n",
              "  }\n",
              "\n",
              "  [theme=dark] .colab-df-quickchart {\n",
              "      --bg-color: #3B4455;\n",
              "      --fill-color: #D2E3FC;\n",
              "      --hover-bg-color: #434B5C;\n",
              "      --hover-fill-color: #FFFFFF;\n",
              "      --disabled-bg-color: #3B4455;\n",
              "      --disabled-fill-color: #666;\n",
              "  }\n",
              "\n",
              "  .colab-df-quickchart {\n",
              "    background-color: var(--bg-color);\n",
              "    border: none;\n",
              "    border-radius: 50%;\n",
              "    cursor: pointer;\n",
              "    display: none;\n",
              "    fill: var(--fill-color);\n",
              "    height: 32px;\n",
              "    padding: 0;\n",
              "    width: 32px;\n",
              "  }\n",
              "\n",
              "  .colab-df-quickchart:hover {\n",
              "    background-color: var(--hover-bg-color);\n",
              "    box-shadow: 0 1px 2px rgba(60, 64, 67, 0.3), 0 1px 3px 1px rgba(60, 64, 67, 0.15);\n",
              "    fill: var(--button-hover-fill-color);\n",
              "  }\n",
              "\n",
              "  .colab-df-quickchart-complete:disabled,\n",
              "  .colab-df-quickchart-complete:disabled:hover {\n",
              "    background-color: var(--disabled-bg-color);\n",
              "    fill: var(--disabled-fill-color);\n",
              "    box-shadow: none;\n",
              "  }\n",
              "\n",
              "  .colab-df-spinner {\n",
              "    border: 2px solid var(--fill-color);\n",
              "    border-color: transparent;\n",
              "    border-bottom-color: var(--fill-color);\n",
              "    animation:\n",
              "      spin 1s steps(1) infinite;\n",
              "  }\n",
              "\n",
              "  @keyframes spin {\n",
              "    0% {\n",
              "      border-color: transparent;\n",
              "      border-bottom-color: var(--fill-color);\n",
              "      border-left-color: var(--fill-color);\n",
              "    }\n",
              "    20% {\n",
              "      border-color: transparent;\n",
              "      border-left-color: var(--fill-color);\n",
              "      border-top-color: var(--fill-color);\n",
              "    }\n",
              "    30% {\n",
              "      border-color: transparent;\n",
              "      border-left-color: var(--fill-color);\n",
              "      border-top-color: var(--fill-color);\n",
              "      border-right-color: var(--fill-color);\n",
              "    }\n",
              "    40% {\n",
              "      border-color: transparent;\n",
              "      border-right-color: var(--fill-color);\n",
              "      border-top-color: var(--fill-color);\n",
              "    }\n",
              "    60% {\n",
              "      border-color: transparent;\n",
              "      border-right-color: var(--fill-color);\n",
              "    }\n",
              "    80% {\n",
              "      border-color: transparent;\n",
              "      border-right-color: var(--fill-color);\n",
              "      border-bottom-color: var(--fill-color);\n",
              "    }\n",
              "    90% {\n",
              "      border-color: transparent;\n",
              "      border-bottom-color: var(--fill-color);\n",
              "    }\n",
              "  }\n",
              "</style>\n",
              "\n",
              "  <script>\n",
              "    async function quickchart(key) {\n",
              "      const quickchartButtonEl =\n",
              "        document.querySelector('#' + key + ' button');\n",
              "      quickchartButtonEl.disabled = true;  // To prevent multiple clicks.\n",
              "      quickchartButtonEl.classList.add('colab-df-spinner');\n",
              "      try {\n",
              "        const charts = await google.colab.kernel.invokeFunction(\n",
              "            'suggestCharts', [key], {});\n",
              "      } catch (error) {\n",
              "        console.error('Error during call to suggestCharts:', error);\n",
              "      }\n",
              "      quickchartButtonEl.classList.remove('colab-df-spinner');\n",
              "      quickchartButtonEl.classList.add('colab-df-quickchart-complete');\n",
              "    }\n",
              "    (() => {\n",
              "      let quickchartButtonEl =\n",
              "        document.querySelector('#df-2c22b60a-68c7-4f08-97f1-7abf508500c3 button');\n",
              "      quickchartButtonEl.style.display =\n",
              "        google.colab.kernel.accessAllowed ? 'block' : 'none';\n",
              "    })();\n",
              "  </script>\n",
              "</div>\n",
              "\n",
              "    </div>\n",
              "  </div>\n"
            ],
            "application/vnd.google.colaboratory.intrinsic+json": {
              "type": "dataframe",
              "summary": "{\n  \"name\": \"df[['text', 'label_code']]\",\n  \"rows\": 5,\n  \"fields\": [\n    {\n      \"column\": \"text\",\n      \"properties\": {\n        \"dtype\": \"string\",\n        \"num_unique_values\": 5,\n        \"samples\": [\n          \"theyre better than the normal posts on ryugioh id rather have them then the same topic posted multiple times in the week after the banlist\",\n          \"yea those are the same sound to me still\",\n          \"how the fuck does this even happen hi youre cute you too ive had a crush on you for awhile um i uh inserts finger in butthole\"\n        ],\n        \"semantic_type\": \"\",\n        \"description\": \"\"\n      }\n    },\n    {\n      \"column\": \"label_code\",\n      \"properties\": {\n        \"dtype\": \"number\",\n        \"std\": 0,\n        \"min\": 0,\n        \"max\": 1,\n        \"num_unique_values\": 2,\n        \"samples\": [\n          1,\n          0\n        ],\n        \"semantic_type\": \"\",\n        \"description\": \"\"\n      }\n    }\n  ]\n}"
            }
          },
          "metadata": {},
          "execution_count": 51
        }
      ]
    },
    {
      "cell_type": "markdown",
      "source": [
        "## Preprocessing texts"
      ],
      "metadata": {
        "id": "Amwu75aL8_eI"
      }
    },
    {
      "cell_type": "markdown",
      "source": [
        "*   Removing stopwords and punctuations\n",
        "*   Stemming *words*"
      ],
      "metadata": {
        "id": "sdjVEiHHZ97q"
      }
    },
    {
      "cell_type": "code",
      "source": [
        "from nltk.tokenize import word_tokenize\n",
        "from nltk.stem import PorterStemmer\n",
        "from nltk.corpus import stopwords\n",
        "import string\n",
        "import nltk\n",
        "\n",
        "nltk.download('punkt')\n",
        "nltk.download('stopwords')\n",
        "stop_words = set(stopwords.words('english'))\n",
        "punctuations = set(string.punctuation)\n",
        "\n",
        "extroverted_texts = list(df['text'][df['label'] == 'Extroverted'])\n",
        "introverted_texts = list(df['text'][df['label'] == 'Introverted'])"
      ],
      "metadata": {
        "colab": {
          "base_uri": "https://localhost:8080/"
        },
        "id": "gXLo5kdHDlBZ",
        "outputId": "23ce110f-eebf-4323-9344-57e1ab25baaa"
      },
      "execution_count": 52,
      "outputs": [
        {
          "output_type": "stream",
          "name": "stderr",
          "text": [
            "[nltk_data] Downloading package punkt to /root/nltk_data...\n",
            "[nltk_data]   Package punkt is already up-to-date!\n",
            "[nltk_data] Downloading package stopwords to /root/nltk_data...\n",
            "[nltk_data]   Package stopwords is already up-to-date!\n"
          ]
        }
      ]
    },
    {
      "cell_type": "code",
      "source": [
        "from collections import Counter\n",
        "\n",
        "# For automating tokenization, removing punctuation + stop words and stemming\n",
        "def tokenize(li: list):\n",
        "    words=[]\n",
        "    for sentence in li:\n",
        "        tokenized_sentence = word_tokenize(sentence)\n",
        "        words.extend([word.lower() for word in tokenized_sentence\n",
        "                        if word.lower() not in stop_words and word.lower() not in punctuations])\n",
        "        ps = PorterStemmer()\n",
        "    words_stemmed = [ps.stem(word) for word in words]\n",
        "    return words_stemmed\n",
        "\n",
        "# Counter of words from tokenized corpus\n",
        "def word_count_in_corpus(li: list):\n",
        "    words=tokenize(li)\n",
        "    word_counts = Counter(words)\n",
        "    return word_counts\n",
        "\n",
        "# Plot bar plot showing occurences for 20 most common words in a corpus\n",
        "def plot_most_common_words_in_corpus(li: list, corpus_name: str, bar_color: str):\n",
        "    word_count=word_count_in_corpus(li)\n",
        "    most_common_words = word_count.most_common(20)\n",
        "    plt.bar(*zip(*most_common_words), color=bar_color)\n",
        "    plt.xlabel('Unigrams')\n",
        "    plt.ylabel('Frequency')\n",
        "    plt.title(f'Unigrams Counts in {corpus_name} Corpus')\n",
        "    plt.xticks(rotation=45)"
      ],
      "metadata": {
        "id": "eTn9uifygJ30"
      },
      "execution_count": 53,
      "outputs": []
    },
    {
      "cell_type": "markdown",
      "source": [
        "## Splitting data"
      ],
      "metadata": {
        "id": "oygZmYCLd8BZ"
      }
    },
    {
      "cell_type": "markdown",
      "source": [
        "Split data to train, validation and test sets\n",
        "\n",
        "We'll keep the proportions between the labels the same in the datasets\n",
        "\n",
        "train : validation : test = 0.75 : 0.15 : 0.1\n",
        "\n",
        "train : validation : test =  12,765 : 2,551 : 1702 records"
      ],
      "metadata": {
        "id": "Auin1umE8zbf"
      }
    },
    {
      "cell_type": "code",
      "source": [
        "from sklearn.model_selection import train_test_split\n",
        "\n",
        "train, val_test = train_test_split(df, test_size=0.25, shuffle=True, stratify=df['label'])\n",
        "validation, test = train_test_split(val_test, test_size=0.4, shuffle=True, stratify=val_test['label'])"
      ],
      "metadata": {
        "id": "yYO4nEJCgyGk"
      },
      "execution_count": 54,
      "outputs": []
    },
    {
      "cell_type": "markdown",
      "source": [
        "## Choosing a model"
      ],
      "metadata": {
        "id": "N5ZVAxeAFUkY"
      }
    },
    {
      "cell_type": "markdown",
      "source": [
        "Based on the finger rule of choosing a model: We'll use Bag of Words to classify the texts to introverted / extroverted"
      ],
      "metadata": {
        "id": "DcZpn2u4hsAz"
      }
    },
    {
      "cell_type": "code",
      "source": [
        "word_count = [len(x.split()) for x in train['text']]\n",
        "\n",
        "num_samples = len(train['text'])\n",
        "mean_sample_length = sum(word_count)/len(word_count)\n",
        "\n",
        "ratio = num_samples / mean_sample_length\n",
        "print(\"Ratio between number of samples and mean sample size:\", ratio)"
      ],
      "metadata": {
        "colab": {
          "base_uri": "https://localhost:8080/"
        },
        "id": "RM-cBIxEhrjU",
        "outputId": "098050ae-7896-4480-fa49-fd1a2ac6ff04"
      },
      "execution_count": 55,
      "outputs": [
        {
          "output_type": "stream",
          "name": "stdout",
          "text": [
            "Ratio between number of samples and mean sample size: 271.0326507360657\n"
          ]
        }
      ]
    },
    {
      "cell_type": "markdown",
      "source": [
        "## Data Statistics"
      ],
      "metadata": {
        "id": "fZFbK_nyeU0l"
      }
    },
    {
      "cell_type": "markdown",
      "source": [
        "We'll show the most common unigrams and bigrams"
      ],
      "metadata": {
        "id": "xr4m7NgD8BqO"
      }
    },
    {
      "cell_type": "markdown",
      "source": [
        "The most common word is 'like' with nearly 5000 occurences"
      ],
      "metadata": {
        "id": "Zxfx6FZJGNLN"
      }
    },
    {
      "cell_type": "markdown",
      "source": [
        "By looking at both bar charts, most common words appear in both.\n",
        "\n"
      ],
      "metadata": {
        "id": "0ZsT-61M6euM"
      }
    },
    {
      "cell_type": "code",
      "source": [
        "plot_most_common_words_in_corpus(introverted_texts, \"introverted\", 'lightblue')"
      ],
      "metadata": {
        "id": "vJ84llfU5jS0",
        "colab": {
          "base_uri": "https://localhost:8080/",
          "height": 515
        },
        "outputId": "ccd55eb8-e385-49c9-c5d4-d2185cd76a15"
      },
      "execution_count": 56,
      "outputs": [
        {
          "output_type": "display_data",
          "data": {
            "text/plain": [
              "<Figure size 640x480 with 1 Axes>"
            ],
            "image/png": "[encoded data removed]"
          },
          "metadata": {}
        }
      ]
    },
    {
      "cell_type": "code",
      "source": [
        "plot_most_common_words_in_corpus(extroverted_texts, \"extroverted\", 'darkblue')"
      ],
      "metadata": {
        "id": "1s2-MMnC5ihO",
        "colab": {
          "base_uri": "https://localhost:8080/",
          "height": 515
        },
        "outputId": "0718e4ec-68fe-456f-8bf4-3adba0ff412c"
      },
      "execution_count": 15,
      "outputs": [
        {
          "output_type": "display_data",
          "data": {
            "text/plain": [
              "<Figure size 640x480 with 1 Axes>"
            ],
            "image/png": "[encoded data removed]"
          },
          "metadata": {}
        }
      ]
    },
    {
      "cell_type": "markdown",
      "source": [
        "Most common bigrams of introvrted are 'dont know', 'dont think'.\n",
        "With bigrams we spot that the word 'dont' repeats itself numerous times in different contexts."
      ],
      "metadata": {
        "id": "QUJ333sxY4L5"
      }
    },
    {
      "cell_type": "code",
      "source": [
        "from collections import Counter\n",
        "introverted_words = tokenize(introverted_texts)\n",
        "introverted_bigrams = zip(introverted_words, introverted_words[1:])\n",
        "introverted_counts_bigrams = Counter(introverted_bigrams)\n",
        "introverted_most_common_bigrams = introverted_counts_bigrams.most_common(20)\n",
        "\n",
        "introverted_bigrams_text = [f\"{bigram[0][0]} {bigram[0][1]}\" for bigram in introverted_most_common_bigrams]\n",
        "introverted_bigrams_occurence = [occurence[1] for occurence in introverted_most_common_bigrams]\n",
        "\n",
        "plt.bar(introverted_bigrams_text, introverted_bigrams_occurence, color='lightgreen')\n",
        "plt.xlabel('Bigrams')\n",
        "plt.ylabel('Frequency')\n",
        "plt.title('Bigrams Counts in introverted Corpus')\n",
        "plt.xticks(rotation=90)\n",
        "plt.tight_layout()\n",
        "plt.show()"
      ],
      "metadata": {
        "id": "GY9o5YGPGlcV",
        "colab": {
          "base_uri": "https://localhost:8080/",
          "height": 487
        },
        "outputId": "ca32d85f-c199-46d8-bc8f-1da6c26bb566"
      },
      "execution_count": 16,
      "outputs": [
        {
          "output_type": "display_data",
          "data": {
            "text/plain": [
              "<Figure size 640x480 with 1 Axes>"
            ],
            "image/png": "[encoded data removed]"
          },
          "metadata": {}
        }
      ]
    },
    {
      "cell_type": "code",
      "source": [
        "from collections import Counter\n",
        "extroverted_words = tokenize(extroverted_texts)\n",
        "extroverted_bigrams = zip(extroverted_words, extroverted_words[1:])\n",
        "extroverted_counts_bigrams = Counter(extroverted_bigrams)\n",
        "extroverted_most_common_bigrams = extroverted_counts_bigrams.most_common(20)\n",
        "\n",
        "extroverted_bigrams_text = [f\"{bigram[0][0]} {bigram[0][1]}\" for bigram in extroverted_most_common_bigrams]\n",
        "extroverted_bigrams_occurence = [occurence[1] for occurence in extroverted_most_common_bigrams]\n",
        "\n",
        "plt.bar(extroverted_bigrams_text, extroverted_bigrams_occurence, color='orange')\n",
        "plt.xlabel('Bigrams')\n",
        "plt.ylabel('Frequency')\n",
        "plt.title('Bigrams Counts in extroverted Corpus')\n",
        "plt.xticks(rotation=90)\n",
        "plt.tight_layout()\n",
        "plt.show()"
      ],
      "metadata": {
        "id": "N8GruSyLIhPP",
        "outputId": "2b08b891-5779-48c4-aa3e-23a3dc0d8461",
        "colab": {
          "base_uri": "https://localhost:8080/",
          "height": 487
        }
      },
      "execution_count": 17,
      "outputs": [
        {
          "output_type": "display_data",
          "data": {
            "text/plain": [
              "<Figure size 640x480 with 1 Axes>"
            ],
            "image/png": "[encoded data removed]"
          },
          "metadata": {}
        }
      ]
    },
    {
      "cell_type": "markdown",
      "source": [
        "There are twice as much introverts than extroverts in the data.\n",
        "\n",
        "We'll keep that in mind when analyzing prediction results."
      ],
      "metadata": {
        "id": "Tg37eUeml7W6"
      }
    },
    {
      "cell_type": "code",
      "source": [
        "import matplotlib.pyplot as plt\n",
        "sns.countplot(x = df['label'])\n",
        "plt.xlabel('Classes')\n",
        "plt.ylabel('Number of records')\n",
        "plt.title('Distribution of records by classes')\n",
        "plt.show()"
      ],
      "metadata": {
        "id": "NBjDBruzYzdq",
        "colab": {
          "base_uri": "https://localhost:8080/",
          "height": 472
        },
        "outputId": "a6d4dedf-f024-4140-8cd5-a5e4913058b6"
      },
      "execution_count": 18,
      "outputs": [
        {
          "output_type": "display_data",
          "data": {
            "text/plain": [
              "<Figure size 640x480 with 1 Axes>"
            ],
            "image/png": "[encoded data removed]"
          },
          "metadata": {}
        }
      ]
    },
    {
      "cell_type": "markdown",
      "source": [
        "Introverts tend to express more in writing than extroverts"
      ],
      "metadata": {
        "id": "D5n9-r4Wly2-"
      }
    },
    {
      "cell_type": "code",
      "source": [
        "df['text length'] = df['text'].apply(lambda x:len(x))\n",
        "introverted_text_lengths = df['text length'][df['label']==\"Introverted\"]\n",
        "extroverted_text_lengths = df['text length'][df['label']==\"Extroverted\"]\n",
        "sns.histplot(x=introverted_text_lengths)\n",
        "sns.histplot(x=extroverted_text_lengths)\n",
        "plt.title(\"Size of texts by Class\")\n",
        "plt.xlim(0,1200)\n",
        "plt.legend([\"Introverted\", \"Extroverted\"])\n",
        "plt.show()"
      ],
      "metadata": {
        "id": "fQbRg1Whlxnn",
        "colab": {
          "base_uri": "https://localhost:8080/",
          "height": 472
        },
        "outputId": "b720d694-2aac-46ae-ef2f-b2cad377e908"
      },
      "execution_count": 19,
      "outputs": [
        {
          "output_type": "display_data",
          "data": {
            "text/plain": [
              "<Figure size 640x480 with 1 Axes>"
            ],
            "image/png": "[encoded data removed]"
          },
          "metadata": {}
        }
      ]
    },
    {
      "cell_type": "markdown",
      "source": [
        "# Random model"
      ],
      "metadata": {
        "id": "OP__Pxwx49_9"
      }
    },
    {
      "cell_type": "markdown",
      "source": [
        "Before preparing a model, especially a deep learning model, it's important to define the baseline\n",
        "\n",
        "For that We'll shuffle the whole data and calculate accuracy of forecasting\n",
        "\n",
        "where:\n",
        "*   train set = original\n",
        "*   test set = shuffled\n",
        "\n",
        "Without any sofisticated model, we get 57.4% accuracy\n",
        "\n",
        "We don't calculate precision and recall because true positive classification for the two classes is equaly important so those metrics are not relevant to this case"
      ],
      "metadata": {
        "id": "5W7uhDiUv4DR"
      }
    },
    {
      "cell_type": "code",
      "source": [
        "import random\n",
        "from sklearn.metrics import accuracy_score, confusion_matrix, classification_report\n",
        "\n",
        "original_labels = df['label']\n",
        "shuffled_labels = original_labels.to_list()\n",
        "random.shuffle(shuffled_labels)\n",
        "\n",
        "accuracy = accuracy_score(original_labels, shuffled_labels)\n",
        "print(\"Accuracy of Random Model:\", accuracy)"
      ],
      "metadata": {
        "id": "kQl3OiiKtpM0",
        "colab": {
          "base_uri": "https://localhost:8080/"
        },
        "outputId": "3168fdcd-6023-4404-d7dc-c6c50ea3c1a7"
      },
      "execution_count": 20,
      "outputs": [
        {
          "output_type": "stream",
          "name": "stdout",
          "text": [
            "Accuracy of Random Model: 0.5744605796931036\n"
          ]
        }
      ]
    },
    {
      "cell_type": "markdown",
      "source": [
        "It's harder for the random model to classify correctly Introverted texts compared to classifying correctly Extroverted texts"
      ],
      "metadata": {
        "id": "Ut2zg2FFUVRP"
      }
    },
    {
      "cell_type": "code",
      "source": [
        "cm = confusion_matrix(original_labels, shuffled_labels)\n",
        "pd.DataFrame(cm, index = ['True Introverted', 'True Extroverted'], columns = ['Predicted Introverted', 'Predicted Extroverted'])"
      ],
      "metadata": {
        "id": "PTYWv86zGT7K",
        "colab": {
          "base_uri": "https://localhost:8080/",
          "height": 112
        },
        "outputId": "435e534f-faaa-4cfe-f06c-4bde9a696650"
      },
      "execution_count": 21,
      "outputs": [
        {
          "output_type": "execute_result",
          "data": {
            "text/plain": [
              "                  Predicted Introverted  Predicted Extroverted\n",
              "True Introverted                   1696                   3619\n",
              "True Extroverted                   3619                   8075"
            ],
            "text/html": [
              "\n",
              "  <div id=\"df-bbbac5b9-ff3a-4862-a329-c8e7b936c647\" class=\"colab-df-container\">\n",
              "    <div>\n",
              "<style scoped>\n",
              "    .dataframe tbody tr th:only-of-type {\n",
              "        vertical-align: middle;\n",
              "    }\n",
              "\n",
              "    .dataframe tbody tr th {\n",
              "        vertical-align: top;\n",
              "    }\n",
              "\n",
              "    .dataframe thead th {\n",
              "        text-align: right;\n",
              "    }\n",
              "</style>\n",
              "<table border=\"1\" class=\"dataframe\">\n",
              "  <thead>\n",
              "    <tr style=\"text-align: right;\">\n",
              "      <th></th>\n",
              "      <th>Predicted Introverted</th>\n",
              "      <th>Predicted Extroverted</th>\n",
              "    </tr>\n",
              "  </thead>\n",
              "  <tbody>\n",
              "    <tr>\n",
              "      <th>True Introverted</th>\n",
              "      <td>1696</td>\n",
              "      <td>3619</td>\n",
              "    </tr>\n",
              "    <tr>\n",
              "      <th>True Extroverted</th>\n",
              "      <td>3619</td>\n",
              "      <td>8075</td>\n",
              "    </tr>\n",
              "  </tbody>\n",
              "</table>\n",
              "</div>\n",
              "    <div class=\"colab-df-buttons\">\n",
              "\n",
              "  <div class=\"colab-df-container\">\n",
              "    <button class=\"colab-df-convert\" onclick=\"convertToInteractive('df-bbbac5b9-ff3a-4862-a329-c8e7b936c647')\"\n",
              "            title=\"Convert this dataframe to an interactive table.\"\n",
              "            style=\"display:none;\">\n",
              "\n",
              "  <svg xmlns=\"http://www.w3.org/2000/svg\" height=\"24px\" viewBox=\"0 -960 960 960\">\n",
              "    <path d=\"M120-120v-720h720v720H120Zm60-500h600v-160H180v160Zm220 220h160v-160H400v160Zm0 220h160v-160H400v160ZM180-400h160v-160H180v160Zm440 0h160v-160H620v160ZM180-180h160v-160H180v160Zm440 0h160v-160H620v160Z\"/>\n",
              "  </svg>\n",
              "    </button>\n",
              "\n",
              "  <style>\n",
              "    .colab-df-container {\n",
              "      display:flex;\n",
              "      gap: 12px;\n",
              "    }\n",
              "\n",
              "    .colab-df-convert {\n",
              "      background-color: #E8F0FE;\n",
              "      border: none;\n",
              "      border-radius: 50%;\n",
              "      cursor: pointer;\n",
              "      display: none;\n",
              "      fill: #1967D2;\n",
              "      height: 32px;\n",
              "      padding: 0 0 0 0;\n",
              "      width: 32px;\n",
              "    }\n",
              "\n",
              "    .colab-df-convert:hover {\n",
              "      background-color: #E2EBFA;\n",
              "      box-shadow: 0px 1px 2px rgba(60, 64, 67, 0.3), 0px 1px 3px 1px rgba(60, 64, 67, 0.15);\n",
              "      fill: #174EA6;\n",
              "    }\n",
              "\n",
              "    .colab-df-buttons div {\n",
              "      margin-bottom: 4px;\n",
              "    }\n",
              "\n",
              "    [theme=dark] .colab-df-convert {\n",
              "      background-color: #3B4455;\n",
              "      fill: #D2E3FC;\n",
              "    }\n",
              "\n",
              "    [theme=dark] .colab-df-convert:hover {\n",
              "      background-color: #434B5C;\n",
              "      box-shadow: 0px 1px 3px 1px rgba(0, 0, 0, 0.15);\n",
              "      filter: drop-shadow(0px 1px 2px rgba(0, 0, 0, 0.3));\n",
              "      fill: #FFFFFF;\n",
              "    }\n",
              "  </style>\n",
              "\n",
              "    <script>\n",
              "      const buttonEl =\n",
              "        document.querySelector('#df-bbbac5b9-ff3a-4862-a329-c8e7b936c647 button.colab-df-convert');\n",
              "      buttonEl.style.display =\n",
              "        google.colab.kernel.accessAllowed ? 'block' : 'none';\n",
              "\n",
              "      async function convertToInteractive(key) {\n",
              "        const element = document.querySelector('#df-bbbac5b9-ff3a-4862-a329-c8e7b936c647');\n",
              "        const dataTable =\n",
              "          await google.colab.kernel.invokeFunction('convertToInteractive',\n",
              "                                                    [key], {});\n",
              "        if (!dataTable) return;\n",
              "\n",
              "        const docLinkHtml = 'Like what you see? Visit the ' +\n",
              "          '<a target=\"_blank\" href=https://colab.research.google.com/notebooks/data_table.ipynb>data table notebook</a>'\n",
              "          + ' to learn more about interactive tables.';\n",
              "        element.innerHTML = '';\n",
              "        dataTable['output_type'] = 'display_data';\n",
              "        await google.colab.output.renderOutput(dataTable, element);\n",
              "        const docLink = document.createElement('div');\n",
              "        docLink.innerHTML = docLinkHtml;\n",
              "        element.appendChild(docLink);\n",
              "      }\n",
              "    </script>\n",
              "  </div>\n",
              "\n",
              "\n",
              "<div id=\"df-77244816-1128-4ffd-874d-78211407b3a0\">\n",
              "  <button class=\"colab-df-quickchart\" onclick=\"quickchart('df-77244816-1128-4ffd-874d-78211407b3a0')\"\n",
              "            title=\"Suggest charts\"\n",
              "            style=\"display:none;\">\n",
              "\n",
              "<svg xmlns=\"http://www.w3.org/2000/svg\" height=\"24px\"viewBox=\"0 0 24 24\"\n",
              "     width=\"24px\">\n",
              "    <g>\n",
              "        <path d=\"M19 3H5c-1.1 0-2 .9-2 2v14c0 1.1.9 2 2 2h14c1.1 0 2-.9 2-2V5c0-1.1-.9-2-2-2zM9 17H7v-7h2v7zm4 0h-2V7h2v10zm4 0h-2v-4h2v4z\"/>\n",
              "    </g>\n",
              "</svg>\n",
              "  </button>\n",
              "\n",
              "<style>\n",
              "  .colab-df-quickchart {\n",
              "      --bg-color: #E8F0FE;\n",
              "      --fill-color: #1967D2;\n",
              "      --hover-bg-color: #E2EBFA;\n",
              "      --hover-fill-color: #174EA6;\n",
              "      --disabled-fill-color: #AAA;\n",
              "      --disabled-bg-color: #DDD;\n",
              "  }\n",
              "\n",
              "  [theme=dark] .colab-df-quickchart {\n",
              "      --bg-color: #3B4455;\n",
              "      --fill-color: #D2E3FC;\n",
              "      --hover-bg-color: #434B5C;\n",
              "      --hover-fill-color: #FFFFFF;\n",
              "      --disabled-bg-color: #3B4455;\n",
              "      --disabled-fill-color: #666;\n",
              "  }\n",
              "\n",
              "  .colab-df-quickchart {\n",
              "    background-color: var(--bg-color);\n",
              "    border: none;\n",
              "    border-radius: 50%;\n",
              "    cursor: pointer;\n",
              "    display: none;\n",
              "    fill: var(--fill-color);\n",
              "    height: 32px;\n",
              "    padding: 0;\n",
              "    width: 32px;\n",
              "  }\n",
              "\n",
              "  .colab-df-quickchart:hover {\n",
              "    background-color: var(--hover-bg-color);\n",
              "    box-shadow: 0 1px 2px rgba(60, 64, 67, 0.3), 0 1px 3px 1px rgba(60, 64, 67, 0.15);\n",
              "    fill: var(--button-hover-fill-color);\n",
              "  }\n",
              "\n",
              "  .colab-df-quickchart-complete:disabled,\n",
              "  .colab-df-quickchart-complete:disabled:hover {\n",
              "    background-color: var(--disabled-bg-color);\n",
              "    fill: var(--disabled-fill-color);\n",
              "    box-shadow: none;\n",
              "  }\n",
              "\n",
              "  .colab-df-spinner {\n",
              "    border: 2px solid var(--fill-color);\n",
              "    border-color: transparent;\n",
              "    border-bottom-color: var(--fill-color);\n",
              "    animation:\n",
              "      spin 1s steps(1) infinite;\n",
              "  }\n",
              "\n",
              "  @keyframes spin {\n",
              "    0% {\n",
              "      border-color: transparent;\n",
              "      border-bottom-color: var(--fill-color);\n",
              "      border-left-color: var(--fill-color);\n",
              "    }\n",
              "    20% {\n",
              "      border-color: transparent;\n",
              "      border-left-color: var(--fill-color);\n",
              "      border-top-color: var(--fill-color);\n",
              "    }\n",
              "    30% {\n",
              "      border-color: transparent;\n",
              "      border-left-color: var(--fill-color);\n",
              "      border-top-color: var(--fill-color);\n",
              "      border-right-color: var(--fill-color);\n",
              "    }\n",
              "    40% {\n",
              "      border-color: transparent;\n",
              "      border-right-color: var(--fill-color);\n",
              "      border-top-color: var(--fill-color);\n",
              "    }\n",
              "    60% {\n",
              "      border-color: transparent;\n",
              "      border-right-color: var(--fill-color);\n",
              "    }\n",
              "    80% {\n",
              "      border-color: transparent;\n",
              "      border-right-color: var(--fill-color);\n",
              "      border-bottom-color: var(--fill-color);\n",
              "    }\n",
              "    90% {\n",
              "      border-color: transparent;\n",
              "      border-bottom-color: var(--fill-color);\n",
              "    }\n",
              "  }\n",
              "</style>\n",
              "\n",
              "  <script>\n",
              "    async function quickchart(key) {\n",
              "      const quickchartButtonEl =\n",
              "        document.querySelector('#' + key + ' button');\n",
              "      quickchartButtonEl.disabled = true;  // To prevent multiple clicks.\n",
              "      quickchartButtonEl.classList.add('colab-df-spinner');\n",
              "      try {\n",
              "        const charts = await google.colab.kernel.invokeFunction(\n",
              "            'suggestCharts', [key], {});\n",
              "      } catch (error) {\n",
              "        console.error('Error during call to suggestCharts:', error);\n",
              "      }\n",
              "      quickchartButtonEl.classList.remove('colab-df-spinner');\n",
              "      quickchartButtonEl.classList.add('colab-df-quickchart-complete');\n",
              "    }\n",
              "    (() => {\n",
              "      let quickchartButtonEl =\n",
              "        document.querySelector('#df-77244816-1128-4ffd-874d-78211407b3a0 button');\n",
              "      quickchartButtonEl.style.display =\n",
              "        google.colab.kernel.accessAllowed ? 'block' : 'none';\n",
              "    })();\n",
              "  </script>\n",
              "</div>\n",
              "\n",
              "    </div>\n",
              "  </div>\n"
            ],
            "application/vnd.google.colaboratory.intrinsic+json": {
              "type": "dataframe",
              "summary": "{\n  \"name\": \"pd\",\n  \"rows\": 2,\n  \"fields\": [\n    {\n      \"column\": \"Predicted Introverted\",\n      \"properties\": {\n        \"dtype\": \"number\",\n        \"std\": 1359,\n        \"min\": 1696,\n        \"max\": 3619,\n        \"num_unique_values\": 2,\n        \"samples\": [\n          3619,\n          1696\n        ],\n        \"semantic_type\": \"\",\n        \"description\": \"\"\n      }\n    },\n    {\n      \"column\": \"Predicted Extroverted\",\n      \"properties\": {\n        \"dtype\": \"number\",\n        \"std\": 3150,\n        \"min\": 3619,\n        \"max\": 8075,\n        \"num_unique_values\": 2,\n        \"samples\": [\n          8075,\n          3619\n        ],\n        \"semantic_type\": \"\",\n        \"description\": \"\"\n      }\n    }\n  ]\n}"
            }
          },
          "metadata": {},
          "execution_count": 21
        }
      ]
    },
    {
      "cell_type": "markdown",
      "source": [
        "# Bag of Words"
      ],
      "metadata": {
        "id": "K60msrQ8uLR7"
      }
    },
    {
      "cell_type": "markdown",
      "source": [
        "Now we'll see if BoW can beat our random model and by how much."
      ],
      "metadata": {
        "id": "FNbsMRqK2krv"
      }
    },
    {
      "cell_type": "code",
      "source": [
        "from sklearn.feature_extraction.text import CountVectorizer\n",
        "from sklearn.model_selection import train_test_split\n",
        "from tensorflow import keras\n",
        "import numpy as np"
      ],
      "metadata": {
        "id": "z92gBQ7f2L3H"
      },
      "execution_count": 22,
      "outputs": []
    },
    {
      "cell_type": "markdown",
      "source": [
        "## Testing different hyperparams"
      ],
      "metadata": {
        "id": "hXUZMyAOLC9S"
      }
    },
    {
      "cell_type": "markdown",
      "source": [
        "We'll test three options for max_tokens: number of features\n",
        "\n",
        "1.   500 features\n",
        "2.   1000 features\n",
        "3.   2000 features"
      ],
      "metadata": {
        "id": "EdUUAUMdC4uW"
      }
    },
    {
      "cell_type": "markdown",
      "source": [
        "Checking options for max_tokens to increase accuracy"
      ],
      "metadata": {
        "id": "p9z-NR0xnG--"
      }
    },
    {
      "cell_type": "code",
      "source": [
        "def vectorizer_n_tokens(max_tokens: int):\n",
        "    vectorizer = keras.layers.TextVectorization(max_tokens=max_tokens,\n",
        "                                                output_mode='tf-idf',\n",
        "                                                standardize=\"lower_and_strip_punctuation\")\n",
        "    vectorizer.adapt(train['text'])\n",
        "\n",
        "    X_train = vectorizer(train['text'])\n",
        "    X_val = vectorizer(validation['text'])\n",
        "    X_test = vectorizer(test['text'])\n",
        "\n",
        "    y_train = np.array(train['label_code'])\n",
        "    y_val = np.array(validation['label_code'])\n",
        "    y_test = np.array(test['label_code'])\n",
        "\n",
        "    return X_train, X_val, X_test, y_train, y_val, y_test"
      ],
      "metadata": {
        "id": "O4RCE6r8K1LB"
      },
      "execution_count": 36,
      "outputs": []
    },
    {
      "cell_type": "markdown",
      "source": [
        "Complie function ready to use"
      ],
      "metadata": {
        "id": "cJAHi1ZouY4v"
      }
    },
    {
      "cell_type": "code",
      "source": [
        "def complie_(model):\n",
        "    model.compile(loss='binary_crossentropy',\n",
        "                optimizer='adam',\n",
        "                metrics=['accuracy'])"
      ],
      "metadata": {
        "id": "Aj1wiuCptEYY"
      },
      "execution_count": 34,
      "outputs": []
    },
    {
      "cell_type": "markdown",
      "source": [
        "Defining the nn layers for binary classification\n"
      ],
      "metadata": {
        "id": "aa2FjBjf3nMT"
      }
    },
    {
      "cell_type": "code",
      "source": [
        "def build_BoW_model(dense_units: int, drop_prcnt: float):\n",
        "    inputs = keras.layers.Input(shape=(X_train.shape[1],), name='input_layer')\n",
        "    net = keras.layers.Dense(dense_units, activation='relu', name='dense1')(inputs)\n",
        "    net = keras.layers.Dropout(drop_prcnt, name='dropout1')(net)\n",
        "    net = keras.layers.Dense(dense_units, activation='relu', name='dense2')(net)\n",
        "    net = keras.layers.Dropout(drop_prcnt, name='dropout2')(net)\n",
        "    outputs = keras.layers.Dense(1, activation='sigmoid', name='output_layer')(net)\n",
        "    model = keras.Model(inputs=inputs, outputs=outputs)\n",
        "\n",
        "    return model"
      ],
      "metadata": {
        "id": "9mxEb53s3gu6"
      },
      "execution_count": 24,
      "outputs": []
    },
    {
      "cell_type": "markdown",
      "source": [
        "Checking  **500 features** with options for size of dense layers and dropout perncent"
      ],
      "metadata": {
        "id": "zZff-ujEuodH"
      }
    },
    {
      "cell_type": "code",
      "source": [
        "X_train, X_val, X_test, y_train, y_val, y_test = vectorizer_n_tokens(500)\n",
        "for dense in [64, 128]:\n",
        "    for prcnt in [0.3, 0.5, 0.8]:\n",
        "        BoW_model = build_BoW_model(dense, prcnt)\n",
        "        complie_(BoW_model)\n",
        "\n",
        "        history = BoW_model.fit(X_train, y_train, verbose=0,\n",
        "                            batch_size=32, epochs=10,\n",
        "                            validation_data=(X_val, y_val))\n",
        "        print(dense, prcnt, \"Accuracy:\", BoW_model.evaluate(X_test, y_test)[1])"
      ],
      "metadata": {
        "id": "iLxOXy6MC33K",
        "colab": {
          "base_uri": "https://localhost:8080/"
        },
        "outputId": "1c4e5aba-d51d-45cb-d4bf-3ced25d26378"
      },
      "execution_count": 30,
      "outputs": [
        {
          "output_type": "stream",
          "name": "stdout",
          "text": [
            "54/54 [==============================] - 0s 2ms/step - loss: 0.7119 - accuracy: 0.6475\n",
            "64 0.3 Accuracy: 0.6474735736846924\n",
            "54/54 [==============================] - 0s 2ms/step - loss: 0.6364 - accuracy: 0.6804\n",
            "64 0.5 Accuracy: 0.6803760528564453\n",
            "54/54 [==============================] - 0s 2ms/step - loss: 0.6195 - accuracy: 0.6874\n",
            "64 0.8 Accuracy: 0.6874265670776367\n",
            "54/54 [==============================] - 0s 2ms/step - loss: 0.7478 - accuracy: 0.6639\n",
            "128 0.3 Accuracy: 0.6639248132705688\n",
            "54/54 [==============================] - 0s 2ms/step - loss: 0.6475 - accuracy: 0.6769\n",
            "128 0.5 Accuracy: 0.6768507361412048\n",
            "54/54 [==============================] - 0s 4ms/step - loss: 0.6186 - accuracy: 0.6874\n",
            "128 0.8 Accuracy: 0.6874265670776367\n"
          ]
        }
      ]
    },
    {
      "cell_type": "markdown",
      "source": [
        "Checking  **1000 features** with options for size of dense layers and dropout perncent"
      ],
      "metadata": {
        "id": "pWtysuWMvAjs"
      }
    },
    {
      "cell_type": "code",
      "source": [
        "X_train, X_val, X_test, y_train, y_val, y_test = vectorizer_n_tokens(1000)\n",
        "for dense in [64, 128]:\n",
        "    for prcnt in [0.3, 0.5, 0.8]:\n",
        "        BoW_model = build_BoW_model(dense, prcnt)\n",
        "        complie_(BoW_model)\n",
        "\n",
        "        history = BoW_model.fit(X_train, y_train, verbose=0,\n",
        "                            batch_size=32, epochs=10,\n",
        "                            validation_data=(X_val, y_val))\n",
        "        print(dense, prcnt, \"Accuracy:\", BoW_model.evaluate(X_test, y_test)[1])"
      ],
      "metadata": {
        "id": "uB7jRI3ZSKZ2",
        "colab": {
          "base_uri": "https://localhost:8080/"
        },
        "outputId": "0187f0e4-d5d8-4651-c148-e861ac320070"
      },
      "execution_count": 31,
      "outputs": [
        {
          "output_type": "stream",
          "name": "stdout",
          "text": [
            "54/54 [==============================] - 0s 4ms/step - loss: 0.8532 - accuracy: 0.6357\n",
            "64 0.3 Accuracy: 0.6357226967811584\n",
            "54/54 [==============================] - 0s 2ms/step - loss: 0.7092 - accuracy: 0.6739\n",
            "64 0.5 Accuracy: 0.6739130616188049\n",
            "54/54 [==============================] - 0s 4ms/step - loss: 0.6229 - accuracy: 0.6874\n",
            "64 0.8 Accuracy: 0.6874265670776367\n",
            "54/54 [==============================] - 0s 3ms/step - loss: 0.8873 - accuracy: 0.6357\n",
            "128 0.3 Accuracy: 0.6357226967811584\n",
            "54/54 [==============================] - 0s 2ms/step - loss: 0.7512 - accuracy: 0.6604\n",
            "128 0.5 Accuracy: 0.6603995561599731\n",
            "54/54 [==============================] - 0s 3ms/step - loss: 0.6211 - accuracy: 0.6904\n",
            "128 0.8 Accuracy: 0.6903643012046814\n"
          ]
        }
      ]
    },
    {
      "cell_type": "markdown",
      "source": [
        "Checking  **2000 features** with options for size of dense layers and dropout perncent"
      ],
      "metadata": {
        "id": "KVhwxYuI31_l"
      }
    },
    {
      "cell_type": "code",
      "source": [
        "X_train, X_val, X_test, y_train, y_val, y_test = vectorizer_n_tokens(2000)\n",
        "for dense in [64, 128]:\n",
        "    for prcnt in [0.3, 0.5, 0.8]:\n",
        "        BoW_model = build_BoW_model(dense, prcnt)\n",
        "        complie_(BoW_model)\n",
        "\n",
        "        history = BoW_model.fit(X_train, y_train, verbose=0,\n",
        "                            batch_size=32, epochs=10,\n",
        "                            validation_data=(X_val, y_val))\n",
        "        print(dense, prcnt, \"Accuracy:\", BoW_model.evaluate(X_test, y_test)[1])"
      ],
      "metadata": {
        "id": "RcWrrpB4S7rl",
        "colab": {
          "base_uri": "https://localhost:8080/"
        },
        "outputId": "ccdc064b-57fb-42f7-fa6e-88bae57bc267"
      },
      "execution_count": 32,
      "outputs": [
        {
          "output_type": "stream",
          "name": "stdout",
          "text": [
            "54/54 [==============================] - 0s 5ms/step - loss: 1.0302 - accuracy: 0.6240\n",
            "64 0.3 Accuracy: 0.6239718198776245\n",
            "54/54 [==============================] - 0s 3ms/step - loss: 0.7622 - accuracy: 0.6610\n",
            "64 0.5 Accuracy: 0.6609870791435242\n",
            "54/54 [==============================] - 0s 4ms/step - loss: 0.6216 - accuracy: 0.6874\n",
            "64 0.8 Accuracy: 0.6874265670776367\n",
            "54/54 [==============================] - 0s 3ms/step - loss: 1.0960 - accuracy: 0.6475\n",
            "128 0.3 Accuracy: 0.6474735736846924\n",
            "54/54 [==============================] - 0s 2ms/step - loss: 0.8416 - accuracy: 0.6410\n",
            "128 0.5 Accuracy: 0.641010582447052\n",
            "54/54 [==============================] - 0s 2ms/step - loss: 0.6229 - accuracy: 0.6904\n",
            "128 0.8 Accuracy: 0.6903643012046814\n"
          ]
        }
      ]
    },
    {
      "cell_type": "markdown",
      "source": [
        "Out of all models, highest accuracy is when max_tokens=1000, sizes of dense layers are 128 and dropout is 0.8"
      ],
      "metadata": {
        "id": "ziSkkqrYxR23"
      }
    },
    {
      "cell_type": "code",
      "source": [
        "X_train, X_val, X_test, y_train, y_val, y_test = vectorizer_n_tokens(1000)\n",
        "\n",
        "best_BoW_model = build_BoW_model(128, 0.8)\n",
        "\n",
        "complie_(best_BoW_model)\n",
        "\n",
        "history = best_BoW_model.fit(X_train, y_train, verbose=1,\n",
        "                    batch_size=32, epochs=10,\n",
        "                    validation_data=(X_val, y_val))\n",
        "print(dense, prcnt, \"Accuracy:\", best_BoW_model.evaluate(X_test, y_test)[1])"
      ],
      "metadata": {
        "colab": {
          "base_uri": "https://localhost:8080/"
        },
        "id": "gKsT7Zoewi2-",
        "outputId": "949fdaef-be85-4d8c-9b70-730b3bd854cf"
      },
      "execution_count": 39,
      "outputs": [
        {
          "output_type": "stream",
          "name": "stdout",
          "text": [
            "Epoch 1/10\n",
            "399/399 [==============================] - 3s 4ms/step - loss: 1.1455 - accuracy: 0.6007 - val_loss: 0.6383 - val_accuracy: 0.6880\n",
            "Epoch 2/10\n",
            "399/399 [==============================] - 2s 4ms/step - loss: 0.6734 - accuracy: 0.6700 - val_loss: 0.6276 - val_accuracy: 0.6876\n",
            "Epoch 3/10\n",
            "399/399 [==============================] - 1s 4ms/step - loss: 0.6315 - accuracy: 0.6855 - val_loss: 0.6235 - val_accuracy: 0.6876\n",
            "Epoch 4/10\n",
            "399/399 [==============================] - 1s 4ms/step - loss: 0.6291 - accuracy: 0.6860 - val_loss: 0.6222 - val_accuracy: 0.6876\n",
            "Epoch 5/10\n",
            "399/399 [==============================] - 1s 4ms/step - loss: 0.6253 - accuracy: 0.6865 - val_loss: 0.6216 - val_accuracy: 0.6876\n",
            "Epoch 6/10\n",
            "399/399 [==============================] - 2s 4ms/step - loss: 0.6232 - accuracy: 0.6866 - val_loss: 0.6210 - val_accuracy: 0.6876\n",
            "Epoch 7/10\n",
            "399/399 [==============================] - 2s 5ms/step - loss: 0.6271 - accuracy: 0.6868 - val_loss: 0.6208 - val_accuracy: 0.6876\n",
            "Epoch 8/10\n",
            "399/399 [==============================] - 2s 5ms/step - loss: 0.6154 - accuracy: 0.6875 - val_loss: 0.6200 - val_accuracy: 0.6876\n",
            "Epoch 9/10\n",
            "399/399 [==============================] - 1s 4ms/step - loss: 0.6122 - accuracy: 0.6879 - val_loss: 0.6205 - val_accuracy: 0.6884\n",
            "Epoch 10/10\n",
            "399/399 [==============================] - 1s 4ms/step - loss: 0.6075 - accuracy: 0.6887 - val_loss: 0.6203 - val_accuracy: 0.6907\n",
            "54/54 [==============================] - 0s 2ms/step - loss: 0.6165 - accuracy: 0.6892\n",
            "128 0.8 Accuracy: 0.6891891956329346\n"
          ]
        }
      ]
    },
    {
      "cell_type": "code",
      "source": [
        "y_pred=best_BoW_model.predict(X_test, verbose=0)\n",
        "y_pred = tf.squeeze(y_pred)\n",
        "y_pred = np.array([1 if x >= 0.5 else 0 for x in y_pred])\n",
        "cm = confusion_matrix(y_test,y_pred)\n",
        "pd.DataFrame(cm, index = ['True Introverted', 'True Extroverted'], columns = ['Predicted Introverted', 'Predicted Extroverted'])\n"
      ],
      "metadata": {
        "id": "T58dtWui_1eL",
        "colab": {
          "base_uri": "https://localhost:8080/",
          "height": 112
        },
        "outputId": "a07b8467-b9ca-4ab0-c9fd-51681ef75944"
      },
      "execution_count": 40,
      "outputs": [
        {
          "output_type": "execute_result",
          "data": {
            "text/plain": [
              "                  Predicted Introverted  Predicted Extroverted\n",
              "True Introverted                   1167                      3\n",
              "True Extroverted                    526                      6"
            ],
            "text/html": [
              "\n",
              "  <div id=\"df-1385225b-1a98-4a61-a970-e4cc60e4aa8d\" class=\"colab-df-container\">\n",
              "    <div>\n",
              "<style scoped>\n",
              "    .dataframe tbody tr th:only-of-type {\n",
              "        vertical-align: middle;\n",
              "    }\n",
              "\n",
              "    .dataframe tbody tr th {\n",
              "        vertical-align: top;\n",
              "    }\n",
              "\n",
              "    .dataframe thead th {\n",
              "        text-align: right;\n",
              "    }\n",
              "</style>\n",
              "<table border=\"1\" class=\"dataframe\">\n",
              "  <thead>\n",
              "    <tr style=\"text-align: right;\">\n",
              "      <th></th>\n",
              "      <th>Predicted Introverted</th>\n",
              "      <th>Predicted Extroverted</th>\n",
              "    </tr>\n",
              "  </thead>\n",
              "  <tbody>\n",
              "    <tr>\n",
              "      <th>True Introverted</th>\n",
              "      <td>1167</td>\n",
              "      <td>3</td>\n",
              "    </tr>\n",
              "    <tr>\n",
              "      <th>True Extroverted</th>\n",
              "      <td>526</td>\n",
              "      <td>6</td>\n",
              "    </tr>\n",
              "  </tbody>\n",
              "</table>\n",
              "</div>\n",
              "    <div class=\"colab-df-buttons\">\n",
              "\n",
              "  <div class=\"colab-df-container\">\n",
              "    <button class=\"colab-df-convert\" onclick=\"convertToInteractive('df-1385225b-1a98-4a61-a970-e4cc60e4aa8d')\"\n",
              "            title=\"Convert this dataframe to an interactive table.\"\n",
              "            style=\"display:none;\">\n",
              "\n",
              "  <svg xmlns=\"http://www.w3.org/2000/svg\" height=\"24px\" viewBox=\"0 -960 960 960\">\n",
              "    <path d=\"M120-120v-720h720v720H120Zm60-500h600v-160H180v160Zm220 220h160v-160H400v160Zm0 220h160v-160H400v160ZM180-400h160v-160H180v160Zm440 0h160v-160H620v160ZM180-180h160v-160H180v160Zm440 0h160v-160H620v160Z\"/>\n",
              "  </svg>\n",
              "    </button>\n",
              "\n",
              "  <style>\n",
              "    .colab-df-container {\n",
              "      display:flex;\n",
              "      gap: 12px;\n",
              "    }\n",
              "\n",
              "    .colab-df-convert {\n",
              "      background-color: #E8F0FE;\n",
              "      border: none;\n",
              "      border-radius: 50%;\n",
              "      cursor: pointer;\n",
              "      display: none;\n",
              "      fill: #1967D2;\n",
              "      height: 32px;\n",
              "      padding: 0 0 0 0;\n",
              "      width: 32px;\n",
              "    }\n",
              "\n",
              "    .colab-df-convert:hover {\n",
              "      background-color: #E2EBFA;\n",
              "      box-shadow: 0px 1px 2px rgba(60, 64, 67, 0.3), 0px 1px 3px 1px rgba(60, 64, 67, 0.15);\n",
              "      fill: #174EA6;\n",
              "    }\n",
              "\n",
              "    .colab-df-buttons div {\n",
              "      margin-bottom: 4px;\n",
              "    }\n",
              "\n",
              "    [theme=dark] .colab-df-convert {\n",
              "      background-color: #3B4455;\n",
              "      fill: #D2E3FC;\n",
              "    }\n",
              "\n",
              "    [theme=dark] .colab-df-convert:hover {\n",
              "      background-color: #434B5C;\n",
              "      box-shadow: 0px 1px 3px 1px rgba(0, 0, 0, 0.15);\n",
              "      filter: drop-shadow(0px 1px 2px rgba(0, 0, 0, 0.3));\n",
              "      fill: #FFFFFF;\n",
              "    }\n",
              "  </style>\n",
              "\n",
              "    <script>\n",
              "      const buttonEl =\n",
              "        document.querySelector('#df-1385225b-1a98-4a61-a970-e4cc60e4aa8d button.colab-df-convert');\n",
              "      buttonEl.style.display =\n",
              "        google.colab.kernel.accessAllowed ? 'block' : 'none';\n",
              "\n",
              "      async function convertToInteractive(key) {\n",
              "        const element = document.querySelector('#df-1385225b-1a98-4a61-a970-e4cc60e4aa8d');\n",
              "        const dataTable =\n",
              "          await google.colab.kernel.invokeFunction('convertToInteractive',\n",
              "                                                    [key], {});\n",
              "        if (!dataTable) return;\n",
              "\n",
              "        const docLinkHtml = 'Like what you see? Visit the ' +\n",
              "          '<a target=\"_blank\" href=https://colab.research.google.com/notebooks/data_table.ipynb>data table notebook</a>'\n",
              "          + ' to learn more about interactive tables.';\n",
              "        element.innerHTML = '';\n",
              "        dataTable['output_type'] = 'display_data';\n",
              "        await google.colab.output.renderOutput(dataTable, element);\n",
              "        const docLink = document.createElement('div');\n",
              "        docLink.innerHTML = docLinkHtml;\n",
              "        element.appendChild(docLink);\n",
              "      }\n",
              "    </script>\n",
              "  </div>\n",
              "\n",
              "\n",
              "<div id=\"df-697ab7f8-32b3-4027-9db6-eddb4258ffcb\">\n",
              "  <button class=\"colab-df-quickchart\" onclick=\"quickchart('df-697ab7f8-32b3-4027-9db6-eddb4258ffcb')\"\n",
              "            title=\"Suggest charts\"\n",
              "            style=\"display:none;\">\n",
              "\n",
              "<svg xmlns=\"http://www.w3.org/2000/svg\" height=\"24px\"viewBox=\"0 0 24 24\"\n",
              "     width=\"24px\">\n",
              "    <g>\n",
              "        <path d=\"M19 3H5c-1.1 0-2 .9-2 2v14c0 1.1.9 2 2 2h14c1.1 0 2-.9 2-2V5c0-1.1-.9-2-2-2zM9 17H7v-7h2v7zm4 0h-2V7h2v10zm4 0h-2v-4h2v4z\"/>\n",
              "    </g>\n",
              "</svg>\n",
              "  </button>\n",
              "\n",
              "<style>\n",
              "  .colab-df-quickchart {\n",
              "      --bg-color: #E8F0FE;\n",
              "      --fill-color: #1967D2;\n",
              "      --hover-bg-color: #E2EBFA;\n",
              "      --hover-fill-color: #174EA6;\n",
              "      --disabled-fill-color: #AAA;\n",
              "      --disabled-bg-color: #DDD;\n",
              "  }\n",
              "\n",
              "  [theme=dark] .colab-df-quickchart {\n",
              "      --bg-color: #3B4455;\n",
              "      --fill-color: #D2E3FC;\n",
              "      --hover-bg-color: #434B5C;\n",
              "      --hover-fill-color: #FFFFFF;\n",
              "      --disabled-bg-color: #3B4455;\n",
              "      --disabled-fill-color: #666;\n",
              "  }\n",
              "\n",
              "  .colab-df-quickchart {\n",
              "    background-color: var(--bg-color);\n",
              "    border: none;\n",
              "    border-radius: 50%;\n",
              "    cursor: pointer;\n",
              "    display: none;\n",
              "    fill: var(--fill-color);\n",
              "    height: 32px;\n",
              "    padding: 0;\n",
              "    width: 32px;\n",
              "  }\n",
              "\n",
              "  .colab-df-quickchart:hover {\n",
              "    background-color: var(--hover-bg-color);\n",
              "    box-shadow: 0 1px 2px rgba(60, 64, 67, 0.3), 0 1px 3px 1px rgba(60, 64, 67, 0.15);\n",
              "    fill: var(--button-hover-fill-color);\n",
              "  }\n",
              "\n",
              "  .colab-df-quickchart-complete:disabled,\n",
              "  .colab-df-quickchart-complete:disabled:hover {\n",
              "    background-color: var(--disabled-bg-color);\n",
              "    fill: var(--disabled-fill-color);\n",
              "    box-shadow: none;\n",
              "  }\n",
              "\n",
              "  .colab-df-spinner {\n",
              "    border: 2px solid var(--fill-color);\n",
              "    border-color: transparent;\n",
              "    border-bottom-color: var(--fill-color);\n",
              "    animation:\n",
              "      spin 1s steps(1) infinite;\n",
              "  }\n",
              "\n",
              "  @keyframes spin {\n",
              "    0% {\n",
              "      border-color: transparent;\n",
              "      border-bottom-color: var(--fill-color);\n",
              "      border-left-color: var(--fill-color);\n",
              "    }\n",
              "    20% {\n",
              "      border-color: transparent;\n",
              "      border-left-color: var(--fill-color);\n",
              "      border-top-color: var(--fill-color);\n",
              "    }\n",
              "    30% {\n",
              "      border-color: transparent;\n",
              "      border-left-color: var(--fill-color);\n",
              "      border-top-color: var(--fill-color);\n",
              "      border-right-color: var(--fill-color);\n",
              "    }\n",
              "    40% {\n",
              "      border-color: transparent;\n",
              "      border-right-color: var(--fill-color);\n",
              "      border-top-color: var(--fill-color);\n",
              "    }\n",
              "    60% {\n",
              "      border-color: transparent;\n",
              "      border-right-color: var(--fill-color);\n",
              "    }\n",
              "    80% {\n",
              "      border-color: transparent;\n",
              "      border-right-color: var(--fill-color);\n",
              "      border-bottom-color: var(--fill-color);\n",
              "    }\n",
              "    90% {\n",
              "      border-color: transparent;\n",
              "      border-bottom-color: var(--fill-color);\n",
              "    }\n",
              "  }\n",
              "</style>\n",
              "\n",
              "  <script>\n",
              "    async function quickchart(key) {\n",
              "      const quickchartButtonEl =\n",
              "        document.querySelector('#' + key + ' button');\n",
              "      quickchartButtonEl.disabled = true;  // To prevent multiple clicks.\n",
              "      quickchartButtonEl.classList.add('colab-df-spinner');\n",
              "      try {\n",
              "        const charts = await google.colab.kernel.invokeFunction(\n",
              "            'suggestCharts', [key], {});\n",
              "      } catch (error) {\n",
              "        console.error('Error during call to suggestCharts:', error);\n",
              "      }\n",
              "      quickchartButtonEl.classList.remove('colab-df-spinner');\n",
              "      quickchartButtonEl.classList.add('colab-df-quickchart-complete');\n",
              "    }\n",
              "    (() => {\n",
              "      let quickchartButtonEl =\n",
              "        document.querySelector('#df-697ab7f8-32b3-4027-9db6-eddb4258ffcb button');\n",
              "      quickchartButtonEl.style.display =\n",
              "        google.colab.kernel.accessAllowed ? 'block' : 'none';\n",
              "    })();\n",
              "  </script>\n",
              "</div>\n",
              "\n",
              "    </div>\n",
              "  </div>\n"
            ],
            "application/vnd.google.colaboratory.intrinsic+json": {
              "type": "dataframe",
              "summary": "{\n  \"name\": \"pd\",\n  \"rows\": 2,\n  \"fields\": [\n    {\n      \"column\": \"Predicted Introverted\",\n      \"properties\": {\n        \"dtype\": \"number\",\n        \"std\": 453,\n        \"min\": 526,\n        \"max\": 1167,\n        \"num_unique_values\": 2,\n        \"samples\": [\n          526,\n          1167\n        ],\n        \"semantic_type\": \"\",\n        \"description\": \"\"\n      }\n    },\n    {\n      \"column\": \"Predicted Extroverted\",\n      \"properties\": {\n        \"dtype\": \"number\",\n        \"std\": 2,\n        \"min\": 3,\n        \"max\": 6,\n        \"num_unique_values\": 2,\n        \"samples\": [\n          6,\n          3\n        ],\n        \"semantic_type\": \"\",\n        \"description\": \"\"\n      }\n    }\n  ]\n}"
            }
          },
          "metadata": {},
          "execution_count": 40
        }
      ]
    },
    {
      "cell_type": "code",
      "source": [
        "plot_model(BoW_model, show_layer_names=True, show_layer_activations=True)"
      ],
      "metadata": {
        "id": "s6trydSPBH2Q"
      },
      "execution_count": null,
      "outputs": []
    }
  ]
}
