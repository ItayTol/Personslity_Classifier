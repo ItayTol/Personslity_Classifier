{
  "nbformat": 4,
  "nbformat_minor": 0,
  "metadata": {
    "colab": {
      "provenance": [],
      "gpuType": "T4",
      "toc_visible": true
    },
    "kernelspec": {
      "name": "python3",
      "display_name": "Python 3"
    },
    "language_info": {
      "name": "python"
    },
    "accelerator": "GPU"
  },
  "cells": [
    {
      "cell_type": "markdown",
      "source": [
        "# EDA & Preproessing"
      ],
      "metadata": {
        "id": "iWHiHR-VwQNA"
      }
    },
    {
      "cell_type": "markdown",
      "source": [
        "For loading data from huggingface"
      ],
      "metadata": {
        "id": "OenrMzgky1eS"
      }
    },
    {
      "cell_type": "code",
      "source": [
        "!pip install datasets --quiet"
      ],
      "metadata": {
        "id": "UD8kD-SdOgA_"
      },
      "execution_count": null,
      "outputs": []
    },
    {
      "cell_type": "code",
      "execution_count": null,
      "metadata": {
        "id": "BHhHtOzJROfH"
      },
      "outputs": [],
      "source": [
        "from datasets import load_dataset\n",
        "import matplotlib.pyplot as plt, seaborn as sns, pandas as pd, os\n",
        "from tensorflow.keras.utils import text_dataset_from_directory, plot_model\n",
        "import tensorflow as tf"
      ]
    },
    {
      "cell_type": "markdown",
      "source": [
        "Importing our raw dataset"
      ],
      "metadata": {
        "id": "mWBAA04Rg2ir"
      }
    },
    {
      "cell_type": "code",
      "source": [
        "df_raw  = pd.DataFrame(load_dataset(\"Fatima0923/Automated-Personality-Prediction\", split='all'))"
      ],
      "metadata": {
        "id": "tV5v6dJ2CPN1"
      },
      "execution_count": null,
      "outputs": []
    },
    {
      "cell_type": "code",
      "source": [
        "df_raw.head(5)"
      ],
      "metadata": {
        "colab": {
          "base_uri": "https://localhost:8080/",
          "height": 293
        },
        "id": "aZsMTeBZ8eTb",
        "outputId": "4212197f-919d-4261-a507-b0911a509f7e"
      },
      "execution_count": null,
      "outputs": [
        {
          "output_type": "execute_result",
          "data": {
            "text/plain": [
              "                                                text  agreeableness  openness  \\\n",
              "0  his name was kim kimble originally wow thats s...            9.0      61.0   \n",
              "1  theyre better than the normal posts on ryugioh...           50.0      85.0   \n",
              "2  how the fuck does this even happen hi youre cu...           15.0      85.0   \n",
              "3  it probably does ive learned a lot about mysel...           71.0      53.0   \n",
              "4           yea those are the same sound to me still           64.0      44.0   \n",
              "\n",
              "   conscientiousness  extraversion  neuroticism  \n",
              "0               13.0           4.0         72.0  \n",
              "1               50.0          85.0         50.0  \n",
              "2               15.0          85.0         15.0  \n",
              "3               17.0           3.0         31.0  \n",
              "4               33.0           8.0         88.0  "
            ],
            "text/html": [
              "\n",
              "  <div id=\"df-7bdd2b2f-ddba-4cac-aa3b-e4f95e2d21b8\" class=\"colab-df-container\">\n",
              "    <div>\n",
              "<style scoped>\n",
              "    .dataframe tbody tr th:only-of-type {\n",
              "        vertical-align: middle;\n",
              "    }\n",
              "\n",
              "    .dataframe tbody tr th {\n",
              "        vertical-align: top;\n",
              "    }\n",
              "\n",
              "    .dataframe thead th {\n",
              "        text-align: right;\n",
              "    }\n",
              "</style>\n",
              "<table border=\"1\" class=\"dataframe\">\n",
              "  <thead>\n",
              "    <tr style=\"text-align: right;\">\n",
              "      <th></th>\n",
              "      <th>text</th>\n",
              "      <th>agreeableness</th>\n",
              "      <th>openness</th>\n",
              "      <th>conscientiousness</th>\n",
              "      <th>extraversion</th>\n",
              "      <th>neuroticism</th>\n",
              "    </tr>\n",
              "  </thead>\n",
              "  <tbody>\n",
              "    <tr>\n",
              "      <th>0</th>\n",
              "      <td>his name was kim kimble originally wow thats s...</td>\n",
              "      <td>9.0</td>\n",
              "      <td>61.0</td>\n",
              "      <td>13.0</td>\n",
              "      <td>4.0</td>\n",
              "      <td>72.0</td>\n",
              "    </tr>\n",
              "    <tr>\n",
              "      <th>1</th>\n",
              "      <td>theyre better than the normal posts on ryugioh...</td>\n",
              "      <td>50.0</td>\n",
              "      <td>85.0</td>\n",
              "      <td>50.0</td>\n",
              "      <td>85.0</td>\n",
              "      <td>50.0</td>\n",
              "    </tr>\n",
              "    <tr>\n",
              "      <th>2</th>\n",
              "      <td>how the fuck does this even happen hi youre cu...</td>\n",
              "      <td>15.0</td>\n",
              "      <td>85.0</td>\n",
              "      <td>15.0</td>\n",
              "      <td>85.0</td>\n",
              "      <td>15.0</td>\n",
              "    </tr>\n",
              "    <tr>\n",
              "      <th>3</th>\n",
              "      <td>it probably does ive learned a lot about mysel...</td>\n",
              "      <td>71.0</td>\n",
              "      <td>53.0</td>\n",
              "      <td>17.0</td>\n",
              "      <td>3.0</td>\n",
              "      <td>31.0</td>\n",
              "    </tr>\n",
              "    <tr>\n",
              "      <th>4</th>\n",
              "      <td>yea those are the same sound to me still</td>\n",
              "      <td>64.0</td>\n",
              "      <td>44.0</td>\n",
              "      <td>33.0</td>\n",
              "      <td>8.0</td>\n",
              "      <td>88.0</td>\n",
              "    </tr>\n",
              "  </tbody>\n",
              "</table>\n",
              "</div>\n",
              "    <div class=\"colab-df-buttons\">\n",
              "\n",
              "  <div class=\"colab-df-container\">\n",
              "    <button class=\"colab-df-convert\" onclick=\"convertToInteractive('df-7bdd2b2f-ddba-4cac-aa3b-e4f95e2d21b8')\"\n",
              "            title=\"Convert this dataframe to an interactive table.\"\n",
              "            style=\"display:none;\">\n",
              "\n",
              "  <svg xmlns=\"http://www.w3.org/2000/svg\" height=\"24px\" viewBox=\"0 -960 960 960\">\n",
              "    <path d=\"M120-120v-720h720v720H120Zm60-500h600v-160H180v160Zm220 220h160v-160H400v160Zm0 220h160v-160H400v160ZM180-400h160v-160H180v160Zm440 0h160v-160H620v160ZM180-180h160v-160H180v160Zm440 0h160v-160H620v160Z\"/>\n",
              "  </svg>\n",
              "    </button>\n",
              "\n",
              "  <style>\n",
              "    .colab-df-container {\n",
              "      display:flex;\n",
              "      gap: 12px;\n",
              "    }\n",
              "\n",
              "    .colab-df-convert {\n",
              "      background-color: #E8F0FE;\n",
              "      border: none;\n",
              "      border-radius: 50%;\n",
              "      cursor: pointer;\n",
              "      display: none;\n",
              "      fill: #1967D2;\n",
              "      height: 32px;\n",
              "      padding: 0 0 0 0;\n",
              "      width: 32px;\n",
              "    }\n",
              "\n",
              "    .colab-df-convert:hover {\n",
              "      background-color: #E2EBFA;\n",
              "      box-shadow: 0px 1px 2px rgba(60, 64, 67, 0.3), 0px 1px 3px 1px rgba(60, 64, 67, 0.15);\n",
              "      fill: #174EA6;\n",
              "    }\n",
              "\n",
              "    .colab-df-buttons div {\n",
              "      margin-bottom: 4px;\n",
              "    }\n",
              "\n",
              "    [theme=dark] .colab-df-convert {\n",
              "      background-color: #3B4455;\n",
              "      fill: #D2E3FC;\n",
              "    }\n",
              "\n",
              "    [theme=dark] .colab-df-convert:hover {\n",
              "      background-color: #434B5C;\n",
              "      box-shadow: 0px 1px 3px 1px rgba(0, 0, 0, 0.15);\n",
              "      filter: drop-shadow(0px 1px 2px rgba(0, 0, 0, 0.3));\n",
              "      fill: #FFFFFF;\n",
              "    }\n",
              "  </style>\n",
              "\n",
              "    <script>\n",
              "      const buttonEl =\n",
              "        document.querySelector('#df-7bdd2b2f-ddba-4cac-aa3b-e4f95e2d21b8 button.colab-df-convert');\n",
              "      buttonEl.style.display =\n",
              "        google.colab.kernel.accessAllowed ? 'block' : 'none';\n",
              "\n",
              "      async function convertToInteractive(key) {\n",
              "        const element = document.querySelector('#df-7bdd2b2f-ddba-4cac-aa3b-e4f95e2d21b8');\n",
              "        const dataTable =\n",
              "          await google.colab.kernel.invokeFunction('convertToInteractive',\n",
              "                                                    [key], {});\n",
              "        if (!dataTable) return;\n",
              "\n",
              "        const docLinkHtml = 'Like what you see? Visit the ' +\n",
              "          '<a target=\"_blank\" href=https://colab.research.google.com/notebooks/data_table.ipynb>data table notebook</a>'\n",
              "          + ' to learn more about interactive tables.';\n",
              "        element.innerHTML = '';\n",
              "        dataTable['output_type'] = 'display_data';\n",
              "        await google.colab.output.renderOutput(dataTable, element);\n",
              "        const docLink = document.createElement('div');\n",
              "        docLink.innerHTML = docLinkHtml;\n",
              "        element.appendChild(docLink);\n",
              "      }\n",
              "    </script>\n",
              "  </div>\n",
              "\n",
              "\n",
              "<div id=\"df-5b77925a-81bf-4801-a697-383e3676dc49\">\n",
              "  <button class=\"colab-df-quickchart\" onclick=\"quickchart('df-5b77925a-81bf-4801-a697-383e3676dc49')\"\n",
              "            title=\"Suggest charts\"\n",
              "            style=\"display:none;\">\n",
              "\n",
              "<svg xmlns=\"http://www.w3.org/2000/svg\" height=\"24px\"viewBox=\"0 0 24 24\"\n",
              "     width=\"24px\">\n",
              "    <g>\n",
              "        <path d=\"M19 3H5c-1.1 0-2 .9-2 2v14c0 1.1.9 2 2 2h14c1.1 0 2-.9 2-2V5c0-1.1-.9-2-2-2zM9 17H7v-7h2v7zm4 0h-2V7h2v10zm4 0h-2v-4h2v4z\"/>\n",
              "    </g>\n",
              "</svg>\n",
              "  </button>\n",
              "\n",
              "<style>\n",
              "  .colab-df-quickchart {\n",
              "      --bg-color: #E8F0FE;\n",
              "      --fill-color: #1967D2;\n",
              "      --hover-bg-color: #E2EBFA;\n",
              "      --hover-fill-color: #174EA6;\n",
              "      --disabled-fill-color: #AAA;\n",
              "      --disabled-bg-color: #DDD;\n",
              "  }\n",
              "\n",
              "  [theme=dark] .colab-df-quickchart {\n",
              "      --bg-color: #3B4455;\n",
              "      --fill-color: #D2E3FC;\n",
              "      --hover-bg-color: #434B5C;\n",
              "      --hover-fill-color: #FFFFFF;\n",
              "      --disabled-bg-color: #3B4455;\n",
              "      --disabled-fill-color: #666;\n",
              "  }\n",
              "\n",
              "  .colab-df-quickchart {\n",
              "    background-color: var(--bg-color);\n",
              "    border: none;\n",
              "    border-radius: 50%;\n",
              "    cursor: pointer;\n",
              "    display: none;\n",
              "    fill: var(--fill-color);\n",
              "    height: 32px;\n",
              "    padding: 0;\n",
              "    width: 32px;\n",
              "  }\n",
              "\n",
              "  .colab-df-quickchart:hover {\n",
              "    background-color: var(--hover-bg-color);\n",
              "    box-shadow: 0 1px 2px rgba(60, 64, 67, 0.3), 0 1px 3px 1px rgba(60, 64, 67, 0.15);\n",
              "    fill: var(--button-hover-fill-color);\n",
              "  }\n",
              "\n",
              "  .colab-df-quickchart-complete:disabled,\n",
              "  .colab-df-quickchart-complete:disabled:hover {\n",
              "    background-color: var(--disabled-bg-color);\n",
              "    fill: var(--disabled-fill-color);\n",
              "    box-shadow: none;\n",
              "  }\n",
              "\n",
              "  .colab-df-spinner {\n",
              "    border: 2px solid var(--fill-color);\n",
              "    border-color: transparent;\n",
              "    border-bottom-color: var(--fill-color);\n",
              "    animation:\n",
              "      spin 1s steps(1) infinite;\n",
              "  }\n",
              "\n",
              "  @keyframes spin {\n",
              "    0% {\n",
              "      border-color: transparent;\n",
              "      border-bottom-color: var(--fill-color);\n",
              "      border-left-color: var(--fill-color);\n",
              "    }\n",
              "    20% {\n",
              "      border-color: transparent;\n",
              "      border-left-color: var(--fill-color);\n",
              "      border-top-color: var(--fill-color);\n",
              "    }\n",
              "    30% {\n",
              "      border-color: transparent;\n",
              "      border-left-color: var(--fill-color);\n",
              "      border-top-color: var(--fill-color);\n",
              "      border-right-color: var(--fill-color);\n",
              "    }\n",
              "    40% {\n",
              "      border-color: transparent;\n",
              "      border-right-color: var(--fill-color);\n",
              "      border-top-color: var(--fill-color);\n",
              "    }\n",
              "    60% {\n",
              "      border-color: transparent;\n",
              "      border-right-color: var(--fill-color);\n",
              "    }\n",
              "    80% {\n",
              "      border-color: transparent;\n",
              "      border-right-color: var(--fill-color);\n",
              "      border-bottom-color: var(--fill-color);\n",
              "    }\n",
              "    90% {\n",
              "      border-color: transparent;\n",
              "      border-bottom-color: var(--fill-color);\n",
              "    }\n",
              "  }\n",
              "</style>\n",
              "\n",
              "  <script>\n",
              "    async function quickchart(key) {\n",
              "      const quickchartButtonEl =\n",
              "        document.querySelector('#' + key + ' button');\n",
              "      quickchartButtonEl.disabled = true;  // To prevent multiple clicks.\n",
              "      quickchartButtonEl.classList.add('colab-df-spinner');\n",
              "      try {\n",
              "        const charts = await google.colab.kernel.invokeFunction(\n",
              "            'suggestCharts', [key], {});\n",
              "      } catch (error) {\n",
              "        console.error('Error during call to suggestCharts:', error);\n",
              "      }\n",
              "      quickchartButtonEl.classList.remove('colab-df-spinner');\n",
              "      quickchartButtonEl.classList.add('colab-df-quickchart-complete');\n",
              "    }\n",
              "    (() => {\n",
              "      let quickchartButtonEl =\n",
              "        document.querySelector('#df-5b77925a-81bf-4801-a697-383e3676dc49 button');\n",
              "      quickchartButtonEl.style.display =\n",
              "        google.colab.kernel.accessAllowed ? 'block' : 'none';\n",
              "    })();\n",
              "  </script>\n",
              "</div>\n",
              "\n",
              "    </div>\n",
              "  </div>\n"
            ],
            "application/vnd.google.colaboratory.intrinsic+json": {
              "type": "dataframe",
              "variable_name": "df_raw",
              "summary": "{\n  \"name\": \"df_raw\",\n  \"rows\": 20877,\n  \"fields\": [\n    {\n      \"column\": \"text\",\n      \"properties\": {\n        \"dtype\": \"string\",\n        \"num_unique_values\": 14221,\n        \"samples\": [\n          \"many reasons some of us reread not just once but often and we may want to be able to look back through a particular book at a particular moment or have it on the shelf for other family members to browse some of us may not want to wait until a library has something available it may be a very current work or we may just be in the mood for that book at that moment or we want to take it on holiday\",\n          \"ahaha no my boss is an typemention his boss is an typemention maybe they tolerate me but im not sure they like me they just need me haha\",\n          \"some might feel their love is more specialuniqueclose and that there is some magical solution where they can have it all the true answer is cold hard logic and it is a hard pill to swallow sometimes you cannot compromise on kids someone will end up miserablethe beauty of having such a big sub imo is that a few people can take time to write a heartfeltindividualized answer to that person show them some care and empathy that they need rather than just saying break up duh if i get sick of reading those what do i do posts i just dont read them that day other days i might feel more empathetic or relating to ops post and want to reply we can share the work amongst our subscribers and help a lot of people realize their bright cf future too edit a word\"\n        ],\n        \"semantic_type\": \"\",\n        \"description\": \"\"\n      }\n    },\n    {\n      \"column\": \"agreeableness\",\n      \"properties\": {\n        \"dtype\": \"number\",\n        \"std\": 29.451380046425033,\n        \"min\": 0.0,\n        \"max\": 99.0,\n        \"num_unique_values\": 57,\n        \"samples\": [\n          9.0,\n          79.0,\n          89.0\n        ],\n        \"semantic_type\": \"\",\n        \"description\": \"\"\n      }\n    },\n    {\n      \"column\": \"openness\",\n      \"properties\": {\n        \"dtype\": \"number\",\n        \"std\": 22.80936945413071,\n        \"min\": 9.0,\n        \"max\": 98.0,\n        \"num_unique_values\": 50,\n        \"samples\": [\n          59.0,\n          19.0,\n          71.0\n        ],\n        \"semantic_type\": \"\",\n        \"description\": \"\"\n      }\n    },\n    {\n      \"column\": \"conscientiousness\",\n      \"properties\": {\n        \"dtype\": \"number\",\n        \"std\": 27.568727920517844,\n        \"min\": 1.0,\n        \"max\": 98.0,\n        \"num_unique_values\": 59,\n        \"samples\": [\n          13.0,\n          86.0,\n          4.0\n        ],\n        \"semantic_type\": \"\",\n        \"description\": \"\"\n      }\n    },\n    {\n      \"column\": \"extraversion\",\n      \"properties\": {\n        \"dtype\": \"number\",\n        \"std\": 30.619385010821222,\n        \"min\": 0.0,\n        \"max\": 99.0,\n        \"num_unique_values\": 51,\n        \"samples\": [\n          33.0,\n          26.0,\n          41.0\n        ],\n        \"semantic_type\": \"\",\n        \"description\": \"\"\n      }\n    },\n    {\n      \"column\": \"neuroticism\",\n      \"properties\": {\n        \"dtype\": \"number\",\n        \"std\": 28.056180850780272,\n        \"min\": 0.0,\n        \"max\": 99.0,\n        \"num_unique_values\": 68,\n        \"samples\": [\n          79.0,\n          41.0,\n          88.0\n        ],\n        \"semantic_type\": \"\",\n        \"description\": \"\"\n      }\n    }\n  ]\n}"
            }
          },
          "metadata": {},
          "execution_count": 163
        }
      ]
    },
    {
      "cell_type": "markdown",
      "source": [
        "At first look it seems there are 20,877 texts in the data"
      ],
      "metadata": {
        "id": "jEHmDu3hAtAy"
      }
    },
    {
      "cell_type": "code",
      "source": [
        "print('Number of records:', df_raw.shape[0])"
      ],
      "metadata": {
        "colab": {
          "base_uri": "https://localhost:8080/"
        },
        "id": "iSB6ykmjAeII",
        "outputId": "625ee5c9-fb9d-4320-e3bf-5f7fc036293f"
      },
      "execution_count": null,
      "outputs": [
        {
          "output_type": "stream",
          "name": "stdout",
          "text": [
            "Number of records: 20877\n"
          ]
        }
      ]
    },
    {
      "cell_type": "markdown",
      "source": [
        "## Removing duplicates"
      ],
      "metadata": {
        "id": "VjhArdrpdc1c"
      }
    },
    {
      "cell_type": "markdown",
      "source": [
        "As we look closer at the data, we spot several records that repeats tens of times with the same scores\n",
        "\n",
        "For example, the sentence 'gop math wrong wrong right' repeats 20 times in the complete dataset"
      ],
      "metadata": {
        "id": "A315WqIiekoU"
      }
    },
    {
      "cell_type": "code",
      "source": [
        "df_raw[df_raw['text'] == 'gop math wrong wrong right'].reset_index()"
      ],
      "metadata": {
        "colab": {
          "base_uri": "https://localhost:8080/",
          "height": 676
        },
        "id": "dLwsf4b4f3wO",
        "outputId": "b2d55fdd-998d-4420-bba8-7f23cc1d37d3"
      },
      "execution_count": null,
      "outputs": [
        {
          "output_type": "execute_result",
          "data": {
            "text/plain": [
              "    index                        text  agreeableness  openness  \\\n",
              "0     646  gop math wrong wrong right           10.0      80.0   \n",
              "1     933  gop math wrong wrong right           10.0      80.0   \n",
              "2    1923  gop math wrong wrong right           10.0      80.0   \n",
              "3    2712  gop math wrong wrong right           10.0      80.0   \n",
              "4    2718  gop math wrong wrong right           10.0      80.0   \n",
              "5    3233  gop math wrong wrong right           10.0      80.0   \n",
              "6    5737  gop math wrong wrong right           10.0      80.0   \n",
              "7    7396  gop math wrong wrong right           10.0      80.0   \n",
              "8    8098  gop math wrong wrong right           10.0      80.0   \n",
              "9    8182  gop math wrong wrong right           10.0      80.0   \n",
              "10   8780  gop math wrong wrong right           10.0      80.0   \n",
              "11  12390  gop math wrong wrong right           10.0      80.0   \n",
              "12  12474  gop math wrong wrong right           10.0      80.0   \n",
              "13  13773  gop math wrong wrong right           10.0      80.0   \n",
              "14  15142  gop math wrong wrong right           10.0      80.0   \n",
              "15  18064  gop math wrong wrong right           10.0      80.0   \n",
              "16  18081  gop math wrong wrong right           10.0      80.0   \n",
              "17  19455  gop math wrong wrong right           10.0      80.0   \n",
              "18  20073  gop math wrong wrong right           10.0      80.0   \n",
              "19  20869  gop math wrong wrong right           10.0      80.0   \n",
              "\n",
              "    conscientiousness  extraversion  neuroticism  \n",
              "0                74.0          27.0         18.0  \n",
              "1                74.0          27.0         18.0  \n",
              "2                74.0          27.0         18.0  \n",
              "3                74.0          27.0         18.0  \n",
              "4                74.0          27.0         18.0  \n",
              "5                74.0          27.0         18.0  \n",
              "6                74.0          27.0         18.0  \n",
              "7                74.0          27.0         18.0  \n",
              "8                74.0          27.0         18.0  \n",
              "9                74.0          27.0         18.0  \n",
              "10               74.0          27.0         18.0  \n",
              "11               74.0          27.0         18.0  \n",
              "12               74.0          27.0         18.0  \n",
              "13               74.0          27.0         18.0  \n",
              "14               74.0          27.0         18.0  \n",
              "15               74.0          27.0         18.0  \n",
              "16               74.0          27.0         18.0  \n",
              "17               74.0          27.0         18.0  \n",
              "18               74.0          27.0         18.0  \n",
              "19               74.0          27.0         18.0  "
            ],
            "text/html": [
              "\n",
              "  <div id=\"df-0ebf57a0-05d8-4eff-bbc2-08667504f0f7\" class=\"colab-df-container\">\n",
              "    <div>\n",
              "<style scoped>\n",
              "    .dataframe tbody tr th:only-of-type {\n",
              "        vertical-align: middle;\n",
              "    }\n",
              "\n",
              "    .dataframe tbody tr th {\n",
              "        vertical-align: top;\n",
              "    }\n",
              "\n",
              "    .dataframe thead th {\n",
              "        text-align: right;\n",
              "    }\n",
              "</style>\n",
              "<table border=\"1\" class=\"dataframe\">\n",
              "  <thead>\n",
              "    <tr style=\"text-align: right;\">\n",
              "      <th></th>\n",
              "      <th>index</th>\n",
              "      <th>text</th>\n",
              "      <th>agreeableness</th>\n",
              "      <th>openness</th>\n",
              "      <th>conscientiousness</th>\n",
              "      <th>extraversion</th>\n",
              "      <th>neuroticism</th>\n",
              "    </tr>\n",
              "  </thead>\n",
              "  <tbody>\n",
              "    <tr>\n",
              "      <th>0</th>\n",
              "      <td>646</td>\n",
              "      <td>gop math wrong wrong right</td>\n",
              "      <td>10.0</td>\n",
              "      <td>80.0</td>\n",
              "      <td>74.0</td>\n",
              "      <td>27.0</td>\n",
              "      <td>18.0</td>\n",
              "    </tr>\n",
              "    <tr>\n",
              "      <th>1</th>\n",
              "      <td>933</td>\n",
              "      <td>gop math wrong wrong right</td>\n",
              "      <td>10.0</td>\n",
              "      <td>80.0</td>\n",
              "      <td>74.0</td>\n",
              "      <td>27.0</td>\n",
              "      <td>18.0</td>\n",
              "    </tr>\n",
              "    <tr>\n",
              "      <th>2</th>\n",
              "      <td>1923</td>\n",
              "      <td>gop math wrong wrong right</td>\n",
              "      <td>10.0</td>\n",
              "      <td>80.0</td>\n",
              "      <td>74.0</td>\n",
              "      <td>27.0</td>\n",
              "      <td>18.0</td>\n",
              "    </tr>\n",
              "    <tr>\n",
              "      <th>3</th>\n",
              "      <td>2712</td>\n",
              "      <td>gop math wrong wrong right</td>\n",
              "      <td>10.0</td>\n",
              "      <td>80.0</td>\n",
              "      <td>74.0</td>\n",
              "      <td>27.0</td>\n",
              "      <td>18.0</td>\n",
              "    </tr>\n",
              "    <tr>\n",
              "      <th>4</th>\n",
              "      <td>2718</td>\n",
              "      <td>gop math wrong wrong right</td>\n",
              "      <td>10.0</td>\n",
              "      <td>80.0</td>\n",
              "      <td>74.0</td>\n",
              "      <td>27.0</td>\n",
              "      <td>18.0</td>\n",
              "    </tr>\n",
              "    <tr>\n",
              "      <th>5</th>\n",
              "      <td>3233</td>\n",
              "      <td>gop math wrong wrong right</td>\n",
              "      <td>10.0</td>\n",
              "      <td>80.0</td>\n",
              "      <td>74.0</td>\n",
              "      <td>27.0</td>\n",
              "      <td>18.0</td>\n",
              "    </tr>\n",
              "    <tr>\n",
              "      <th>6</th>\n",
              "      <td>5737</td>\n",
              "      <td>gop math wrong wrong right</td>\n",
              "      <td>10.0</td>\n",
              "      <td>80.0</td>\n",
              "      <td>74.0</td>\n",
              "      <td>27.0</td>\n",
              "      <td>18.0</td>\n",
              "    </tr>\n",
              "    <tr>\n",
              "      <th>7</th>\n",
              "      <td>7396</td>\n",
              "      <td>gop math wrong wrong right</td>\n",
              "      <td>10.0</td>\n",
              "      <td>80.0</td>\n",
              "      <td>74.0</td>\n",
              "      <td>27.0</td>\n",
              "      <td>18.0</td>\n",
              "    </tr>\n",
              "    <tr>\n",
              "      <th>8</th>\n",
              "      <td>8098</td>\n",
              "      <td>gop math wrong wrong right</td>\n",
              "      <td>10.0</td>\n",
              "      <td>80.0</td>\n",
              "      <td>74.0</td>\n",
              "      <td>27.0</td>\n",
              "      <td>18.0</td>\n",
              "    </tr>\n",
              "    <tr>\n",
              "      <th>9</th>\n",
              "      <td>8182</td>\n",
              "      <td>gop math wrong wrong right</td>\n",
              "      <td>10.0</td>\n",
              "      <td>80.0</td>\n",
              "      <td>74.0</td>\n",
              "      <td>27.0</td>\n",
              "      <td>18.0</td>\n",
              "    </tr>\n",
              "    <tr>\n",
              "      <th>10</th>\n",
              "      <td>8780</td>\n",
              "      <td>gop math wrong wrong right</td>\n",
              "      <td>10.0</td>\n",
              "      <td>80.0</td>\n",
              "      <td>74.0</td>\n",
              "      <td>27.0</td>\n",
              "      <td>18.0</td>\n",
              "    </tr>\n",
              "    <tr>\n",
              "      <th>11</th>\n",
              "      <td>12390</td>\n",
              "      <td>gop math wrong wrong right</td>\n",
              "      <td>10.0</td>\n",
              "      <td>80.0</td>\n",
              "      <td>74.0</td>\n",
              "      <td>27.0</td>\n",
              "      <td>18.0</td>\n",
              "    </tr>\n",
              "    <tr>\n",
              "      <th>12</th>\n",
              "      <td>12474</td>\n",
              "      <td>gop math wrong wrong right</td>\n",
              "      <td>10.0</td>\n",
              "      <td>80.0</td>\n",
              "      <td>74.0</td>\n",
              "      <td>27.0</td>\n",
              "      <td>18.0</td>\n",
              "    </tr>\n",
              "    <tr>\n",
              "      <th>13</th>\n",
              "      <td>13773</td>\n",
              "      <td>gop math wrong wrong right</td>\n",
              "      <td>10.0</td>\n",
              "      <td>80.0</td>\n",
              "      <td>74.0</td>\n",
              "      <td>27.0</td>\n",
              "      <td>18.0</td>\n",
              "    </tr>\n",
              "    <tr>\n",
              "      <th>14</th>\n",
              "      <td>15142</td>\n",
              "      <td>gop math wrong wrong right</td>\n",
              "      <td>10.0</td>\n",
              "      <td>80.0</td>\n",
              "      <td>74.0</td>\n",
              "      <td>27.0</td>\n",
              "      <td>18.0</td>\n",
              "    </tr>\n",
              "    <tr>\n",
              "      <th>15</th>\n",
              "      <td>18064</td>\n",
              "      <td>gop math wrong wrong right</td>\n",
              "      <td>10.0</td>\n",
              "      <td>80.0</td>\n",
              "      <td>74.0</td>\n",
              "      <td>27.0</td>\n",
              "      <td>18.0</td>\n",
              "    </tr>\n",
              "    <tr>\n",
              "      <th>16</th>\n",
              "      <td>18081</td>\n",
              "      <td>gop math wrong wrong right</td>\n",
              "      <td>10.0</td>\n",
              "      <td>80.0</td>\n",
              "      <td>74.0</td>\n",
              "      <td>27.0</td>\n",
              "      <td>18.0</td>\n",
              "    </tr>\n",
              "    <tr>\n",
              "      <th>17</th>\n",
              "      <td>19455</td>\n",
              "      <td>gop math wrong wrong right</td>\n",
              "      <td>10.0</td>\n",
              "      <td>80.0</td>\n",
              "      <td>74.0</td>\n",
              "      <td>27.0</td>\n",
              "      <td>18.0</td>\n",
              "    </tr>\n",
              "    <tr>\n",
              "      <th>18</th>\n",
              "      <td>20073</td>\n",
              "      <td>gop math wrong wrong right</td>\n",
              "      <td>10.0</td>\n",
              "      <td>80.0</td>\n",
              "      <td>74.0</td>\n",
              "      <td>27.0</td>\n",
              "      <td>18.0</td>\n",
              "    </tr>\n",
              "    <tr>\n",
              "      <th>19</th>\n",
              "      <td>20869</td>\n",
              "      <td>gop math wrong wrong right</td>\n",
              "      <td>10.0</td>\n",
              "      <td>80.0</td>\n",
              "      <td>74.0</td>\n",
              "      <td>27.0</td>\n",
              "      <td>18.0</td>\n",
              "    </tr>\n",
              "  </tbody>\n",
              "</table>\n",
              "</div>\n",
              "    <div class=\"colab-df-buttons\">\n",
              "\n",
              "  <div class=\"colab-df-container\">\n",
              "    <button class=\"colab-df-convert\" onclick=\"convertToInteractive('df-0ebf57a0-05d8-4eff-bbc2-08667504f0f7')\"\n",
              "            title=\"Convert this dataframe to an interactive table.\"\n",
              "            style=\"display:none;\">\n",
              "\n",
              "  <svg xmlns=\"http://www.w3.org/2000/svg\" height=\"24px\" viewBox=\"0 -960 960 960\">\n",
              "    <path d=\"M120-120v-720h720v720H120Zm60-500h600v-160H180v160Zm220 220h160v-160H400v160Zm0 220h160v-160H400v160ZM180-400h160v-160H180v160Zm440 0h160v-160H620v160ZM180-180h160v-160H180v160Zm440 0h160v-160H620v160Z\"/>\n",
              "  </svg>\n",
              "    </button>\n",
              "\n",
              "  <style>\n",
              "    .colab-df-container {\n",
              "      display:flex;\n",
              "      gap: 12px;\n",
              "    }\n",
              "\n",
              "    .colab-df-convert {\n",
              "      background-color: #E8F0FE;\n",
              "      border: none;\n",
              "      border-radius: 50%;\n",
              "      cursor: pointer;\n",
              "      display: none;\n",
              "      fill: #1967D2;\n",
              "      height: 32px;\n",
              "      padding: 0 0 0 0;\n",
              "      width: 32px;\n",
              "    }\n",
              "\n",
              "    .colab-df-convert:hover {\n",
              "      background-color: #E2EBFA;\n",
              "      box-shadow: 0px 1px 2px rgba(60, 64, 67, 0.3), 0px 1px 3px 1px rgba(60, 64, 67, 0.15);\n",
              "      fill: #174EA6;\n",
              "    }\n",
              "\n",
              "    .colab-df-buttons div {\n",
              "      margin-bottom: 4px;\n",
              "    }\n",
              "\n",
              "    [theme=dark] .colab-df-convert {\n",
              "      background-color: #3B4455;\n",
              "      fill: #D2E3FC;\n",
              "    }\n",
              "\n",
              "    [theme=dark] .colab-df-convert:hover {\n",
              "      background-color: #434B5C;\n",
              "      box-shadow: 0px 1px 3px 1px rgba(0, 0, 0, 0.15);\n",
              "      filter: drop-shadow(0px 1px 2px rgba(0, 0, 0, 0.3));\n",
              "      fill: #FFFFFF;\n",
              "    }\n",
              "  </style>\n",
              "\n",
              "    <script>\n",
              "      const buttonEl =\n",
              "        document.querySelector('#df-0ebf57a0-05d8-4eff-bbc2-08667504f0f7 button.colab-df-convert');\n",
              "      buttonEl.style.display =\n",
              "        google.colab.kernel.accessAllowed ? 'block' : 'none';\n",
              "\n",
              "      async function convertToInteractive(key) {\n",
              "        const element = document.querySelector('#df-0ebf57a0-05d8-4eff-bbc2-08667504f0f7');\n",
              "        const dataTable =\n",
              "          await google.colab.kernel.invokeFunction('convertToInteractive',\n",
              "                                                    [key], {});\n",
              "        if (!dataTable) return;\n",
              "\n",
              "        const docLinkHtml = 'Like what you see? Visit the ' +\n",
              "          '<a target=\"_blank\" href=https://colab.research.google.com/notebooks/data_table.ipynb>data table notebook</a>'\n",
              "          + ' to learn more about interactive tables.';\n",
              "        element.innerHTML = '';\n",
              "        dataTable['output_type'] = 'display_data';\n",
              "        await google.colab.output.renderOutput(dataTable, element);\n",
              "        const docLink = document.createElement('div');\n",
              "        docLink.innerHTML = docLinkHtml;\n",
              "        element.appendChild(docLink);\n",
              "      }\n",
              "    </script>\n",
              "  </div>\n",
              "\n",
              "\n",
              "<div id=\"df-3323a89e-84c9-4aa0-bd9f-5272e1629771\">\n",
              "  <button class=\"colab-df-quickchart\" onclick=\"quickchart('df-3323a89e-84c9-4aa0-bd9f-5272e1629771')\"\n",
              "            title=\"Suggest charts\"\n",
              "            style=\"display:none;\">\n",
              "\n",
              "<svg xmlns=\"http://www.w3.org/2000/svg\" height=\"24px\"viewBox=\"0 0 24 24\"\n",
              "     width=\"24px\">\n",
              "    <g>\n",
              "        <path d=\"M19 3H5c-1.1 0-2 .9-2 2v14c0 1.1.9 2 2 2h14c1.1 0 2-.9 2-2V5c0-1.1-.9-2-2-2zM9 17H7v-7h2v7zm4 0h-2V7h2v10zm4 0h-2v-4h2v4z\"/>\n",
              "    </g>\n",
              "</svg>\n",
              "  </button>\n",
              "\n",
              "<style>\n",
              "  .colab-df-quickchart {\n",
              "      --bg-color: #E8F0FE;\n",
              "      --fill-color: #1967D2;\n",
              "      --hover-bg-color: #E2EBFA;\n",
              "      --hover-fill-color: #174EA6;\n",
              "      --disabled-fill-color: #AAA;\n",
              "      --disabled-bg-color: #DDD;\n",
              "  }\n",
              "\n",
              "  [theme=dark] .colab-df-quickchart {\n",
              "      --bg-color: #3B4455;\n",
              "      --fill-color: #D2E3FC;\n",
              "      --hover-bg-color: #434B5C;\n",
              "      --hover-fill-color: #FFFFFF;\n",
              "      --disabled-bg-color: #3B4455;\n",
              "      --disabled-fill-color: #666;\n",
              "  }\n",
              "\n",
              "  .colab-df-quickchart {\n",
              "    background-color: var(--bg-color);\n",
              "    border: none;\n",
              "    border-radius: 50%;\n",
              "    cursor: pointer;\n",
              "    display: none;\n",
              "    fill: var(--fill-color);\n",
              "    height: 32px;\n",
              "    padding: 0;\n",
              "    width: 32px;\n",
              "  }\n",
              "\n",
              "  .colab-df-quickchart:hover {\n",
              "    background-color: var(--hover-bg-color);\n",
              "    box-shadow: 0 1px 2px rgba(60, 64, 67, 0.3), 0 1px 3px 1px rgba(60, 64, 67, 0.15);\n",
              "    fill: var(--button-hover-fill-color);\n",
              "  }\n",
              "\n",
              "  .colab-df-quickchart-complete:disabled,\n",
              "  .colab-df-quickchart-complete:disabled:hover {\n",
              "    background-color: var(--disabled-bg-color);\n",
              "    fill: var(--disabled-fill-color);\n",
              "    box-shadow: none;\n",
              "  }\n",
              "\n",
              "  .colab-df-spinner {\n",
              "    border: 2px solid var(--fill-color);\n",
              "    border-color: transparent;\n",
              "    border-bottom-color: var(--fill-color);\n",
              "    animation:\n",
              "      spin 1s steps(1) infinite;\n",
              "  }\n",
              "\n",
              "  @keyframes spin {\n",
              "    0% {\n",
              "      border-color: transparent;\n",
              "      border-bottom-color: var(--fill-color);\n",
              "      border-left-color: var(--fill-color);\n",
              "    }\n",
              "    20% {\n",
              "      border-color: transparent;\n",
              "      border-left-color: var(--fill-color);\n",
              "      border-top-color: var(--fill-color);\n",
              "    }\n",
              "    30% {\n",
              "      border-color: transparent;\n",
              "      border-left-color: var(--fill-color);\n",
              "      border-top-color: var(--fill-color);\n",
              "      border-right-color: var(--fill-color);\n",
              "    }\n",
              "    40% {\n",
              "      border-color: transparent;\n",
              "      border-right-color: var(--fill-color);\n",
              "      border-top-color: var(--fill-color);\n",
              "    }\n",
              "    60% {\n",
              "      border-color: transparent;\n",
              "      border-right-color: var(--fill-color);\n",
              "    }\n",
              "    80% {\n",
              "      border-color: transparent;\n",
              "      border-right-color: var(--fill-color);\n",
              "      border-bottom-color: var(--fill-color);\n",
              "    }\n",
              "    90% {\n",
              "      border-color: transparent;\n",
              "      border-bottom-color: var(--fill-color);\n",
              "    }\n",
              "  }\n",
              "</style>\n",
              "\n",
              "  <script>\n",
              "    async function quickchart(key) {\n",
              "      const quickchartButtonEl =\n",
              "        document.querySelector('#' + key + ' button');\n",
              "      quickchartButtonEl.disabled = true;  // To prevent multiple clicks.\n",
              "      quickchartButtonEl.classList.add('colab-df-spinner');\n",
              "      try {\n",
              "        const charts = await google.colab.kernel.invokeFunction(\n",
              "            'suggestCharts', [key], {});\n",
              "      } catch (error) {\n",
              "        console.error('Error during call to suggestCharts:', error);\n",
              "      }\n",
              "      quickchartButtonEl.classList.remove('colab-df-spinner');\n",
              "      quickchartButtonEl.classList.add('colab-df-quickchart-complete');\n",
              "    }\n",
              "    (() => {\n",
              "      let quickchartButtonEl =\n",
              "        document.querySelector('#df-3323a89e-84c9-4aa0-bd9f-5272e1629771 button');\n",
              "      quickchartButtonEl.style.display =\n",
              "        google.colab.kernel.accessAllowed ? 'block' : 'none';\n",
              "    })();\n",
              "  </script>\n",
              "</div>\n",
              "\n",
              "    </div>\n",
              "  </div>\n"
            ],
            "application/vnd.google.colaboratory.intrinsic+json": {
              "type": "dataframe",
              "summary": "{\n  \"name\": \"df_raw[df_raw['text'] == 'gop math wrong wrong right']\",\n  \"rows\": 20,\n  \"fields\": [\n    {\n      \"column\": \"index\",\n      \"properties\": {\n        \"dtype\": \"number\",\n        \"std\": 6928,\n        \"min\": 646,\n        \"max\": 20869,\n        \"num_unique_values\": 20,\n        \"samples\": [\n          646,\n          19455,\n          18064\n        ],\n        \"semantic_type\": \"\",\n        \"description\": \"\"\n      }\n    },\n    {\n      \"column\": \"text\",\n      \"properties\": {\n        \"dtype\": \"category\",\n        \"num_unique_values\": 1,\n        \"samples\": [\n          \"gop math wrong wrong right\"\n        ],\n        \"semantic_type\": \"\",\n        \"description\": \"\"\n      }\n    },\n    {\n      \"column\": \"agreeableness\",\n      \"properties\": {\n        \"dtype\": \"number\",\n        \"std\": 0.0,\n        \"min\": 10.0,\n        \"max\": 10.0,\n        \"num_unique_values\": 1,\n        \"samples\": [\n          10.0\n        ],\n        \"semantic_type\": \"\",\n        \"description\": \"\"\n      }\n    },\n    {\n      \"column\": \"openness\",\n      \"properties\": {\n        \"dtype\": \"number\",\n        \"std\": 0.0,\n        \"min\": 80.0,\n        \"max\": 80.0,\n        \"num_unique_values\": 1,\n        \"samples\": [\n          80.0\n        ],\n        \"semantic_type\": \"\",\n        \"description\": \"\"\n      }\n    },\n    {\n      \"column\": \"conscientiousness\",\n      \"properties\": {\n        \"dtype\": \"number\",\n        \"std\": 0.0,\n        \"min\": 74.0,\n        \"max\": 74.0,\n        \"num_unique_values\": 1,\n        \"samples\": [\n          74.0\n        ],\n        \"semantic_type\": \"\",\n        \"description\": \"\"\n      }\n    },\n    {\n      \"column\": \"extraversion\",\n      \"properties\": {\n        \"dtype\": \"number\",\n        \"std\": 0.0,\n        \"min\": 27.0,\n        \"max\": 27.0,\n        \"num_unique_values\": 1,\n        \"samples\": [\n          27.0\n        ],\n        \"semantic_type\": \"\",\n        \"description\": \"\"\n      }\n    },\n    {\n      \"column\": \"neuroticism\",\n      \"properties\": {\n        \"dtype\": \"number\",\n        \"std\": 0.0,\n        \"min\": 18.0,\n        \"max\": 18.0,\n        \"num_unique_values\": 1,\n        \"samples\": [\n          18.0\n        ],\n        \"semantic_type\": \"\",\n        \"description\": \"\"\n      }\n    }\n  ]\n}"
            }
          },
          "metadata": {},
          "execution_count": 165
        }
      ]
    },
    {
      "cell_type": "markdown",
      "source": [
        "We'll remove duplicates from data"
      ],
      "metadata": {
        "id": "BL90DyW9ii8f"
      }
    },
    {
      "cell_type": "code",
      "source": [
        "df_raw_uniques = df_raw.drop_duplicates()"
      ],
      "metadata": {
        "id": "vpsgNDZgiiK3"
      },
      "execution_count": null,
      "outputs": []
    },
    {
      "cell_type": "markdown",
      "source": [
        "After removing duplicates, in the complete dataset there are 17,009 non-repeating records"
      ],
      "metadata": {
        "id": "atzwbBucznbA"
      }
    },
    {
      "cell_type": "code",
      "source": [
        "print(\"Number of unique records in the complete dataset:\", df_raw_uniques.shape[0])"
      ],
      "metadata": {
        "colab": {
          "base_uri": "https://localhost:8080/"
        },
        "id": "6BlaeQ_8zJ4p",
        "outputId": "c9e87e43-5eab-40b4-d05c-c86c9462687c"
      },
      "execution_count": null,
      "outputs": [
        {
          "output_type": "stream",
          "name": "stdout",
          "text": [
            "Number of unique records in the complete dataset: 17009\n"
          ]
        }
      ]
    },
    {
      "cell_type": "markdown",
      "source": [
        "## Preproccess text and label"
      ],
      "metadata": {
        "id": "m2ovQ3CodrUF"
      }
    },
    {
      "cell_type": "markdown",
      "source": [
        "Preproccess the texts: remove punctuation and stop words from them"
      ],
      "metadata": {
        "id": "OtoALlv7-FaW"
      }
    },
    {
      "cell_type": "code",
      "source": [
        "from nltk.corpus import stopwords\n",
        "from nltk.tokenize import word_tokenize\n",
        "import string\n",
        "\n",
        "# Download NLTK resources\n",
        "import nltk\n",
        "nltk.download('punkt')\n",
        "nltk.download('stopwords')\n",
        "\n",
        "stop_words = set(stopwords.words('english'))\n",
        "punctuations = set(string.punctuation)\n",
        "\n",
        "text_for_model=[]\n",
        "for sentence in df_raw_uniques['text']:\n",
        "  cleaned_words = []\n",
        "  words = word_tokenize(sentence)\n",
        "  cleaned_words.extend([word.lower() for word in words if word.lower() not in stop_words and word.lower() not in punctuations])\n",
        "  text_for_model.append(' '.join(cleaned_words))\n",
        "\n",
        "df = pd.DataFrame({'text': text_for_model})"
      ],
      "metadata": {
        "colab": {
          "base_uri": "https://localhost:8080/"
        },
        "id": "dTV0aeQZ1Sy_",
        "outputId": "40aca00f-dde6-4ff2-d356-14c47f7c625c"
      },
      "execution_count": null,
      "outputs": [
        {
          "output_type": "stream",
          "name": "stderr",
          "text": [
            "[nltk_data] Downloading package punkt to /root/nltk_data...\n",
            "[nltk_data]   Package punkt is already up-to-date!\n",
            "[nltk_data] Downloading package stopwords to /root/nltk_data...\n",
            "[nltk_data]   Package stopwords is already up-to-date!\n"
          ]
        }
      ]
    },
    {
      "cell_type": "markdown",
      "source": [
        "In this work there will be an attempt to classify the **extraversion**\n",
        "\n",
        "Other traits will be dropped and the numerical values of extraversion will be replaced by 2 categorical labels: 'Introverted', 'Extroverted'.\n",
        "*   Introverted -> under 50 points\n",
        "*   Extroverted -> equal to or above 50 points  \n",
        "\n",
        "\n"
      ],
      "metadata": {
        "id": "dHKuZx-xY3o9"
      }
    },
    {
      "cell_type": "code",
      "source": [
        "def float_to_lable(df):\n",
        "  bins = [-1, 50, 100]\n",
        "  lables = ['Introverted', 'Extroverted']\n",
        "  s = pd.cut(df['extraversion'], bins=bins, labels=lables).to_list()\n",
        "  return s\n",
        "\n",
        "df['lable']=float_to_lable(df_raw_uniques)\n",
        "df.head(5)"
      ],
      "metadata": {
        "colab": {
          "base_uri": "https://localhost:8080/",
          "height": 206
        },
        "id": "cGmb11R-2QBo",
        "outputId": "0445312b-43b5-4c50-cbfa-5b975a14b522"
      },
      "execution_count": null,
      "outputs": [
        {
          "output_type": "execute_result",
          "data": {
            "text/plain": [
              "                                                text        lable\n",
              "0  name kim kimble originally wow thats messed pa...  Introverted\n",
              "1  theyre better normal posts ryugioh id rather t...  Extroverted\n",
              "2  fuck even happen hi youre cute ive crush awhil...  Extroverted\n",
              "3  probably ive learned lot browsing subreddit mo...  Introverted\n",
              "4                                    yea sound still  Introverted"
            ],
            "text/html": [
              "\n",
              "  <div id=\"df-0d560090-9b55-48c1-b56f-1b64e319e927\" class=\"colab-df-container\">\n",
              "    <div>\n",
              "<style scoped>\n",
              "    .dataframe tbody tr th:only-of-type {\n",
              "        vertical-align: middle;\n",
              "    }\n",
              "\n",
              "    .dataframe tbody tr th {\n",
              "        vertical-align: top;\n",
              "    }\n",
              "\n",
              "    .dataframe thead th {\n",
              "        text-align: right;\n",
              "    }\n",
              "</style>\n",
              "<table border=\"1\" class=\"dataframe\">\n",
              "  <thead>\n",
              "    <tr style=\"text-align: right;\">\n",
              "      <th></th>\n",
              "      <th>text</th>\n",
              "      <th>lable</th>\n",
              "    </tr>\n",
              "  </thead>\n",
              "  <tbody>\n",
              "    <tr>\n",
              "      <th>0</th>\n",
              "      <td>name kim kimble originally wow thats messed pa...</td>\n",
              "      <td>Introverted</td>\n",
              "    </tr>\n",
              "    <tr>\n",
              "      <th>1</th>\n",
              "      <td>theyre better normal posts ryugioh id rather t...</td>\n",
              "      <td>Extroverted</td>\n",
              "    </tr>\n",
              "    <tr>\n",
              "      <th>2</th>\n",
              "      <td>fuck even happen hi youre cute ive crush awhil...</td>\n",
              "      <td>Extroverted</td>\n",
              "    </tr>\n",
              "    <tr>\n",
              "      <th>3</th>\n",
              "      <td>probably ive learned lot browsing subreddit mo...</td>\n",
              "      <td>Introverted</td>\n",
              "    </tr>\n",
              "    <tr>\n",
              "      <th>4</th>\n",
              "      <td>yea sound still</td>\n",
              "      <td>Introverted</td>\n",
              "    </tr>\n",
              "  </tbody>\n",
              "</table>\n",
              "</div>\n",
              "    <div class=\"colab-df-buttons\">\n",
              "\n",
              "  <div class=\"colab-df-container\">\n",
              "    <button class=\"colab-df-convert\" onclick=\"convertToInteractive('df-0d560090-9b55-48c1-b56f-1b64e319e927')\"\n",
              "            title=\"Convert this dataframe to an interactive table.\"\n",
              "            style=\"display:none;\">\n",
              "\n",
              "  <svg xmlns=\"http://www.w3.org/2000/svg\" height=\"24px\" viewBox=\"0 -960 960 960\">\n",
              "    <path d=\"M120-120v-720h720v720H120Zm60-500h600v-160H180v160Zm220 220h160v-160H400v160Zm0 220h160v-160H400v160ZM180-400h160v-160H180v160Zm440 0h160v-160H620v160ZM180-180h160v-160H180v160Zm440 0h160v-160H620v160Z\"/>\n",
              "  </svg>\n",
              "    </button>\n",
              "\n",
              "  <style>\n",
              "    .colab-df-container {\n",
              "      display:flex;\n",
              "      gap: 12px;\n",
              "    }\n",
              "\n",
              "    .colab-df-convert {\n",
              "      background-color: #E8F0FE;\n",
              "      border: none;\n",
              "      border-radius: 50%;\n",
              "      cursor: pointer;\n",
              "      display: none;\n",
              "      fill: #1967D2;\n",
              "      height: 32px;\n",
              "      padding: 0 0 0 0;\n",
              "      width: 32px;\n",
              "    }\n",
              "\n",
              "    .colab-df-convert:hover {\n",
              "      background-color: #E2EBFA;\n",
              "      box-shadow: 0px 1px 2px rgba(60, 64, 67, 0.3), 0px 1px 3px 1px rgba(60, 64, 67, 0.15);\n",
              "      fill: #174EA6;\n",
              "    }\n",
              "\n",
              "    .colab-df-buttons div {\n",
              "      margin-bottom: 4px;\n",
              "    }\n",
              "\n",
              "    [theme=dark] .colab-df-convert {\n",
              "      background-color: #3B4455;\n",
              "      fill: #D2E3FC;\n",
              "    }\n",
              "\n",
              "    [theme=dark] .colab-df-convert:hover {\n",
              "      background-color: #434B5C;\n",
              "      box-shadow: 0px 1px 3px 1px rgba(0, 0, 0, 0.15);\n",
              "      filter: drop-shadow(0px 1px 2px rgba(0, 0, 0, 0.3));\n",
              "      fill: #FFFFFF;\n",
              "    }\n",
              "  </style>\n",
              "\n",
              "    <script>\n",
              "      const buttonEl =\n",
              "        document.querySelector('#df-0d560090-9b55-48c1-b56f-1b64e319e927 button.colab-df-convert');\n",
              "      buttonEl.style.display =\n",
              "        google.colab.kernel.accessAllowed ? 'block' : 'none';\n",
              "\n",
              "      async function convertToInteractive(key) {\n",
              "        const element = document.querySelector('#df-0d560090-9b55-48c1-b56f-1b64e319e927');\n",
              "        const dataTable =\n",
              "          await google.colab.kernel.invokeFunction('convertToInteractive',\n",
              "                                                    [key], {});\n",
              "        if (!dataTable) return;\n",
              "\n",
              "        const docLinkHtml = 'Like what you see? Visit the ' +\n",
              "          '<a target=\"_blank\" href=https://colab.research.google.com/notebooks/data_table.ipynb>data table notebook</a>'\n",
              "          + ' to learn more about interactive tables.';\n",
              "        element.innerHTML = '';\n",
              "        dataTable['output_type'] = 'display_data';\n",
              "        await google.colab.output.renderOutput(dataTable, element);\n",
              "        const docLink = document.createElement('div');\n",
              "        docLink.innerHTML = docLinkHtml;\n",
              "        element.appendChild(docLink);\n",
              "      }\n",
              "    </script>\n",
              "  </div>\n",
              "\n",
              "\n",
              "<div id=\"df-29749e5a-3325-4074-abdc-4b28e75b1fc9\">\n",
              "  <button class=\"colab-df-quickchart\" onclick=\"quickchart('df-29749e5a-3325-4074-abdc-4b28e75b1fc9')\"\n",
              "            title=\"Suggest charts\"\n",
              "            style=\"display:none;\">\n",
              "\n",
              "<svg xmlns=\"http://www.w3.org/2000/svg\" height=\"24px\"viewBox=\"0 0 24 24\"\n",
              "     width=\"24px\">\n",
              "    <g>\n",
              "        <path d=\"M19 3H5c-1.1 0-2 .9-2 2v14c0 1.1.9 2 2 2h14c1.1 0 2-.9 2-2V5c0-1.1-.9-2-2-2zM9 17H7v-7h2v7zm4 0h-2V7h2v10zm4 0h-2v-4h2v4z\"/>\n",
              "    </g>\n",
              "</svg>\n",
              "  </button>\n",
              "\n",
              "<style>\n",
              "  .colab-df-quickchart {\n",
              "      --bg-color: #E8F0FE;\n",
              "      --fill-color: #1967D2;\n",
              "      --hover-bg-color: #E2EBFA;\n",
              "      --hover-fill-color: #174EA6;\n",
              "      --disabled-fill-color: #AAA;\n",
              "      --disabled-bg-color: #DDD;\n",
              "  }\n",
              "\n",
              "  [theme=dark] .colab-df-quickchart {\n",
              "      --bg-color: #3B4455;\n",
              "      --fill-color: #D2E3FC;\n",
              "      --hover-bg-color: #434B5C;\n",
              "      --hover-fill-color: #FFFFFF;\n",
              "      --disabled-bg-color: #3B4455;\n",
              "      --disabled-fill-color: #666;\n",
              "  }\n",
              "\n",
              "  .colab-df-quickchart {\n",
              "    background-color: var(--bg-color);\n",
              "    border: none;\n",
              "    border-radius: 50%;\n",
              "    cursor: pointer;\n",
              "    display: none;\n",
              "    fill: var(--fill-color);\n",
              "    height: 32px;\n",
              "    padding: 0;\n",
              "    width: 32px;\n",
              "  }\n",
              "\n",
              "  .colab-df-quickchart:hover {\n",
              "    background-color: var(--hover-bg-color);\n",
              "    box-shadow: 0 1px 2px rgba(60, 64, 67, 0.3), 0 1px 3px 1px rgba(60, 64, 67, 0.15);\n",
              "    fill: var(--button-hover-fill-color);\n",
              "  }\n",
              "\n",
              "  .colab-df-quickchart-complete:disabled,\n",
              "  .colab-df-quickchart-complete:disabled:hover {\n",
              "    background-color: var(--disabled-bg-color);\n",
              "    fill: var(--disabled-fill-color);\n",
              "    box-shadow: none;\n",
              "  }\n",
              "\n",
              "  .colab-df-spinner {\n",
              "    border: 2px solid var(--fill-color);\n",
              "    border-color: transparent;\n",
              "    border-bottom-color: var(--fill-color);\n",
              "    animation:\n",
              "      spin 1s steps(1) infinite;\n",
              "  }\n",
              "\n",
              "  @keyframes spin {\n",
              "    0% {\n",
              "      border-color: transparent;\n",
              "      border-bottom-color: var(--fill-color);\n",
              "      border-left-color: var(--fill-color);\n",
              "    }\n",
              "    20% {\n",
              "      border-color: transparent;\n",
              "      border-left-color: var(--fill-color);\n",
              "      border-top-color: var(--fill-color);\n",
              "    }\n",
              "    30% {\n",
              "      border-color: transparent;\n",
              "      border-left-color: var(--fill-color);\n",
              "      border-top-color: var(--fill-color);\n",
              "      border-right-color: var(--fill-color);\n",
              "    }\n",
              "    40% {\n",
              "      border-color: transparent;\n",
              "      border-right-color: var(--fill-color);\n",
              "      border-top-color: var(--fill-color);\n",
              "    }\n",
              "    60% {\n",
              "      border-color: transparent;\n",
              "      border-right-color: var(--fill-color);\n",
              "    }\n",
              "    80% {\n",
              "      border-color: transparent;\n",
              "      border-right-color: var(--fill-color);\n",
              "      border-bottom-color: var(--fill-color);\n",
              "    }\n",
              "    90% {\n",
              "      border-color: transparent;\n",
              "      border-bottom-color: var(--fill-color);\n",
              "    }\n",
              "  }\n",
              "</style>\n",
              "\n",
              "  <script>\n",
              "    async function quickchart(key) {\n",
              "      const quickchartButtonEl =\n",
              "        document.querySelector('#' + key + ' button');\n",
              "      quickchartButtonEl.disabled = true;  // To prevent multiple clicks.\n",
              "      quickchartButtonEl.classList.add('colab-df-spinner');\n",
              "      try {\n",
              "        const charts = await google.colab.kernel.invokeFunction(\n",
              "            'suggestCharts', [key], {});\n",
              "      } catch (error) {\n",
              "        console.error('Error during call to suggestCharts:', error);\n",
              "      }\n",
              "      quickchartButtonEl.classList.remove('colab-df-spinner');\n",
              "      quickchartButtonEl.classList.add('colab-df-quickchart-complete');\n",
              "    }\n",
              "    (() => {\n",
              "      let quickchartButtonEl =\n",
              "        document.querySelector('#df-29749e5a-3325-4074-abdc-4b28e75b1fc9 button');\n",
              "      quickchartButtonEl.style.display =\n",
              "        google.colab.kernel.accessAllowed ? 'block' : 'none';\n",
              "    })();\n",
              "  </script>\n",
              "</div>\n",
              "\n",
              "    </div>\n",
              "  </div>\n"
            ],
            "application/vnd.google.colaboratory.intrinsic+json": {
              "type": "dataframe",
              "variable_name": "df",
              "summary": "{\n  \"name\": \"df\",\n  \"rows\": 17009,\n  \"fields\": [\n    {\n      \"column\": \"text\",\n      \"properties\": {\n        \"dtype\": \"string\",\n        \"num_unique_values\": 14219,\n        \"samples\": [\n          \"cynicism hell youre gon na love thing love wish yeah\",\n          \"100 eggs 100 dollars print extra 100 dollars keep prices theres 100 dollars left think happens people want spend eggs demand eggs increased supply eggs think happen price eggs\",\n          \"might feel love specialuniqueclose magical solution true answer cold hard logic hard pill swallow sometimes compromise kids someone end miserablethe beauty big sub imo people take time write heartfeltindividualized answer person show care empathy need rather saying break duh get sick reading posts dont read day days might feel empathetic relating ops post want reply share work amongst subscribers help lot people realize bright cf future edit word\"\n        ],\n        \"semantic_type\": \"\",\n        \"description\": \"\"\n      }\n    },\n    {\n      \"column\": \"lable\",\n      \"properties\": {\n        \"dtype\": \"category\",\n        \"num_unique_values\": 2,\n        \"samples\": [\n          \"Extroverted\",\n          \"Introverted\"\n        ],\n        \"semantic_type\": \"\",\n        \"description\": \"\"\n      }\n    }\n  ]\n}"
            }
          },
          "metadata": {},
          "execution_count": 169
        }
      ]
    },
    {
      "cell_type": "markdown",
      "source": [
        "## Splitting data and choosing a model"
      ],
      "metadata": {
        "id": "oygZmYCLd8BZ"
      }
    },
    {
      "cell_type": "markdown",
      "source": [
        "Split data again to train, validation and test sets\n",
        "\n",
        "We'll keep the proportions between the lables the same in the datasets"
      ],
      "metadata": {
        "id": "Auin1umE8zbf"
      }
    },
    {
      "cell_type": "code",
      "source": [
        "from sklearn.model_selection import train_test_split\n",
        "\n",
        "train, val_test = train_test_split(df, test_size=0.4, shuffle=True, stratify=df['lable'])\n",
        "validation, test = train_test_split(val_test, test_size=0.4, shuffle=True, stratify=val_test['lable'])"
      ],
      "metadata": {
        "id": "yYO4nEJCgyGk"
      },
      "execution_count": null,
      "outputs": []
    },
    {
      "cell_type": "markdown",
      "source": [
        "Based on the finger rule of choosing a model: We'll use BoW to classify the texts"
      ],
      "metadata": {
        "id": "DcZpn2u4hsAz"
      }
    },
    {
      "cell_type": "code",
      "source": [
        "word_count = [len(x.split()) for x in train['text']]\n",
        "\n",
        "num_samples = len(train['text'])\n",
        "mean_sample_length = sum(word_count)/len(word_count)\n",
        "\n",
        "ratio = num_samples / mean_sample_length\n",
        "print(\"Ratio between number of samples and mean sample size:\", ratio)"
      ],
      "metadata": {
        "colab": {
          "base_uri": "https://localhost:8080/"
        },
        "id": "RM-cBIxEhrjU",
        "outputId": "8989dcda-3b96-4070-ce03-82062340ecd1"
      },
      "execution_count": null,
      "outputs": [
        {
          "output_type": "stream",
          "name": "stdout",
          "text": [
            "Ratio between number of samples and mean sample size: 407.5115630233687\n"
          ]
        }
      ]
    },
    {
      "cell_type": "markdown",
      "source": [
        "## Data Statistics"
      ],
      "metadata": {
        "id": "fZFbK_nyeU0l"
      }
    },
    {
      "cell_type": "markdown",
      "source": [
        "Most common words are: 'like', 'dont', 'people'"
      ],
      "metadata": {
        "id": "Zxfx6FZJGNLN"
      }
    },
    {
      "cell_type": "code",
      "source": [
        "from collections import Counter\n",
        "from nltk.tokenize import word_tokenize\n",
        "\n",
        "corpus = list(df['text'])\n",
        "words = []\n",
        "for sentence in corpus:\n",
        "  words.extend(word_tokenize(sentence))\n",
        "word_counts = Counter(words)\n",
        "most_common_words = word_counts.most_common(20)\n",
        "plt.bar(*zip(*most_common_words), color='lightblue')\n",
        "plt.xlabel('Words')\n",
        "plt.ylabel('Frequency')\n",
        "plt.title('Word Counts in Corpus')\n",
        "plt.xticks(rotation=45)\n",
        "plt.tight_layout()\n",
        "plt.show()\n"
      ],
      "metadata": {
        "colab": {
          "base_uri": "https://localhost:8080/",
          "height": 487
        },
        "id": "gXLo5kdHDlBZ",
        "outputId": "fe9f1881-d444-4cb6-d8bd-0fd75963dad1"
      },
      "execution_count": null,
      "outputs": [
        {
          "output_type": "display_data",
          "data": {
            "text/plain": [
              "<Figure size 640x480 with 1 Axes>"
            ],
            "image/png": "[encoded data removed]"
          },
          "metadata": {}
        }
      ]
    },
    {
      "cell_type": "markdown",
      "source": [
        "There are many more texts labled as Introverted than extroverted.\n",
        "\n",
        "We'll keep that in mind when analysing prediction results"
      ],
      "metadata": {
        "id": "Tg37eUeml7W6"
      }
    },
    {
      "cell_type": "code",
      "source": [
        "import matplotlib.pyplot as plt\n",
        "sns.countplot(x = df['lable'])\n",
        "plt.xlabel('Catogory')\n",
        "plt.ylabel('Number of records')\n",
        "plt.title('Distribution of records in complete dataset')\n",
        "plt.show()\n"
      ],
      "metadata": {
        "colab": {
          "base_uri": "https://localhost:8080/",
          "height": 472
        },
        "id": "NBjDBruzYzdq",
        "outputId": "d3c097ca-f58c-437f-e4a2-1bdf0e0b6df2"
      },
      "execution_count": null,
      "outputs": [
        {
          "output_type": "display_data",
          "data": {
            "text/plain": [
              "<Figure size 640x480 with 1 Axes>"
            ],
            "image/png": "[encoded data removed]"
          },
          "metadata": {}
        }
      ]
    },
    {
      "cell_type": "markdown",
      "source": [
        "## Uploading data to files"
      ],
      "metadata": {
        "id": "c5fsKohRektI"
      }
    },
    {
      "cell_type": "markdown",
      "source": [
        "Transform the datasets to batch datasets\n"
      ],
      "metadata": {
        "id": "8MfG-BpYa10-"
      }
    },
    {
      "cell_type": "code",
      "source": [
        "from os.path import join\n",
        "root_dir = \"/content/Data\"\n",
        "\n",
        "def data_to_folders(df, num):\n",
        "  for index, row in df.iterrows():\n",
        "    # Create category subfolder if it doesn't exist\n",
        "    if num == 1:\n",
        "      name = 'train'\n",
        "    elif num == 2:\n",
        "      name = 'validation'\n",
        "    elif num == 3:\n",
        "      name = 'test'\n",
        "    category_dir = join(root_dir, join(name, row['lable']))\n",
        "    if not os.path.exists(category_dir):\n",
        "      os.makedirs(category_dir)\n",
        "\n",
        "    text_file_path = os.path.join(category_dir, f'text_{index}.txt')\n",
        "    with open(text_file_path, 'w') as text_file:\n",
        "      text_file.write(row['text'])\n",
        "\n",
        "data_to_folders(train, 1)\n",
        "data_to_folders(validation, 2)\n",
        "data_to_folders(test, 3)\n",
        "\n",
        "train_ds = text_dataset_from_directory(\"/content/Data/train\",\n",
        "                                       batch_size=32)\n",
        "validation_ds = text_dataset_from_directory(\"/content/Data/validation\",\n",
        "                                            batch_size=32)\n",
        "test_ds = text_dataset_from_directory(\"/content/Data/test\",\n",
        "                                      batch_size=32)"
      ],
      "metadata": {
        "colab": {
          "base_uri": "https://localhost:8080/"
        },
        "id": "1nijuwvdWubG",
        "outputId": "cd83f44a-736c-460d-c239-a64995346d2e"
      },
      "execution_count": null,
      "outputs": [
        {
          "output_type": "stream",
          "name": "stdout",
          "text": [
            "Found 15905 files belonging to 2 classes.\n",
            "Found 9558 files belonging to 2 classes.\n",
            "Found 6932 files belonging to 2 classes.\n"
          ]
        }
      ]
    },
    {
      "cell_type": "markdown",
      "source": [
        "# Random model"
      ],
      "metadata": {
        "id": "OP__Pxwx49_9"
      }
    },
    {
      "cell_type": "markdown",
      "source": [
        "Before preparing a model, especially a deep learning model, it's important to define the baseline\n",
        "\n",
        "For that We'll shuffle the whole data and calculate accuracy of forecasting\n",
        "\n",
        "where:\n",
        "*   train set = original\n",
        "*   test set = shuffled\n",
        "\n",
        "Without any sofisticated model, we get 57% accuracy"
      ],
      "metadata": {
        "id": "5W7uhDiUv4DR"
      }
    },
    {
      "cell_type": "code",
      "source": [
        "import random\n",
        "from sklearn.metrics import accuracy_score, confusion_matrix, classification_report\n",
        "\n",
        "original_labels = df['lable']\n",
        "shuffled_labels = original_labels.copy()\n",
        "random.shuffle(shuffled_labels)\n",
        "\n",
        "accuracy = accuracy_score(original_labels, shuffled_labels)\n",
        "print(\"Accuracy of Random Prediction:\", accuracy)"
      ],
      "metadata": {
        "id": "kQl3OiiKtpM0",
        "colab": {
          "base_uri": "https://localhost:8080/"
        },
        "outputId": "cfde6290-4623-4374-c488-0337353717eb"
      },
      "execution_count": null,
      "outputs": [
        {
          "output_type": "stream",
          "name": "stdout",
          "text": [
            "Accuracy of Random Prediction: 0.568346169674878\n"
          ]
        }
      ]
    },
    {
      "cell_type": "code",
      "source": [
        "cm = confusion_matrix(original_labels, shuffled_labels)\n",
        "pd.DataFrame(cm, index = ['Introverted', 'Extroverted'], columns = ['Predicted Introverted', 'Predicted Extroverted'])\n"
      ],
      "metadata": {
        "colab": {
          "base_uri": "https://localhost:8080/",
          "height": 112
        },
        "id": "PTYWv86zGT7K",
        "outputId": "38c1b623-c290-4ea9-d61f-29046b8944ab"
      },
      "execution_count": null,
      "outputs": [
        {
          "output_type": "execute_result",
          "data": {
            "text/plain": [
              "             Predicted Introverted  Predicted Extroverted\n",
              "Introverted                   1644                   3671\n",
              "Extroverted                   3671                   8023"
            ],
            "text/html": [
              "\n",
              "  <div id=\"df-0f5dbce4-293f-4b7b-b461-9adac263b5ac\" class=\"colab-df-container\">\n",
              "    <div>\n",
              "<style scoped>\n",
              "    .dataframe tbody tr th:only-of-type {\n",
              "        vertical-align: middle;\n",
              "    }\n",
              "\n",
              "    .dataframe tbody tr th {\n",
              "        vertical-align: top;\n",
              "    }\n",
              "\n",
              "    .dataframe thead th {\n",
              "        text-align: right;\n",
              "    }\n",
              "</style>\n",
              "<table border=\"1\" class=\"dataframe\">\n",
              "  <thead>\n",
              "    <tr style=\"text-align: right;\">\n",
              "      <th></th>\n",
              "      <th>Predicted Introverted</th>\n",
              "      <th>Predicted Extroverted</th>\n",
              "    </tr>\n",
              "  </thead>\n",
              "  <tbody>\n",
              "    <tr>\n",
              "      <th>Introverted</th>\n",
              "      <td>1644</td>\n",
              "      <td>3671</td>\n",
              "    </tr>\n",
              "    <tr>\n",
              "      <th>Extroverted</th>\n",
              "      <td>3671</td>\n",
              "      <td>8023</td>\n",
              "    </tr>\n",
              "  </tbody>\n",
              "</table>\n",
              "</div>\n",
              "    <div class=\"colab-df-buttons\">\n",
              "\n",
              "  <div class=\"colab-df-container\">\n",
              "    <button class=\"colab-df-convert\" onclick=\"convertToInteractive('df-0f5dbce4-293f-4b7b-b461-9adac263b5ac')\"\n",
              "            title=\"Convert this dataframe to an interactive table.\"\n",
              "            style=\"display:none;\">\n",
              "\n",
              "  <svg xmlns=\"http://www.w3.org/2000/svg\" height=\"24px\" viewBox=\"0 -960 960 960\">\n",
              "    <path d=\"M120-120v-720h720v720H120Zm60-500h600v-160H180v160Zm220 220h160v-160H400v160Zm0 220h160v-160H400v160ZM180-400h160v-160H180v160Zm440 0h160v-160H620v160ZM180-180h160v-160H180v160Zm440 0h160v-160H620v160Z\"/>\n",
              "  </svg>\n",
              "    </button>\n",
              "\n",
              "  <style>\n",
              "    .colab-df-container {\n",
              "      display:flex;\n",
              "      gap: 12px;\n",
              "    }\n",
              "\n",
              "    .colab-df-convert {\n",
              "      background-color: #E8F0FE;\n",
              "      border: none;\n",
              "      border-radius: 50%;\n",
              "      cursor: pointer;\n",
              "      display: none;\n",
              "      fill: #1967D2;\n",
              "      height: 32px;\n",
              "      padding: 0 0 0 0;\n",
              "      width: 32px;\n",
              "    }\n",
              "\n",
              "    .colab-df-convert:hover {\n",
              "      background-color: #E2EBFA;\n",
              "      box-shadow: 0px 1px 2px rgba(60, 64, 67, 0.3), 0px 1px 3px 1px rgba(60, 64, 67, 0.15);\n",
              "      fill: #174EA6;\n",
              "    }\n",
              "\n",
              "    .colab-df-buttons div {\n",
              "      margin-bottom: 4px;\n",
              "    }\n",
              "\n",
              "    [theme=dark] .colab-df-convert {\n",
              "      background-color: #3B4455;\n",
              "      fill: #D2E3FC;\n",
              "    }\n",
              "\n",
              "    [theme=dark] .colab-df-convert:hover {\n",
              "      background-color: #434B5C;\n",
              "      box-shadow: 0px 1px 3px 1px rgba(0, 0, 0, 0.15);\n",
              "      filter: drop-shadow(0px 1px 2px rgba(0, 0, 0, 0.3));\n",
              "      fill: #FFFFFF;\n",
              "    }\n",
              "  </style>\n",
              "\n",
              "    <script>\n",
              "      const buttonEl =\n",
              "        document.querySelector('#df-0f5dbce4-293f-4b7b-b461-9adac263b5ac button.colab-df-convert');\n",
              "      buttonEl.style.display =\n",
              "        google.colab.kernel.accessAllowed ? 'block' : 'none';\n",
              "\n",
              "      async function convertToInteractive(key) {\n",
              "        const element = document.querySelector('#df-0f5dbce4-293f-4b7b-b461-9adac263b5ac');\n",
              "        const dataTable =\n",
              "          await google.colab.kernel.invokeFunction('convertToInteractive',\n",
              "                                                    [key], {});\n",
              "        if (!dataTable) return;\n",
              "\n",
              "        const docLinkHtml = 'Like what you see? Visit the ' +\n",
              "          '<a target=\"_blank\" href=https://colab.research.google.com/notebooks/data_table.ipynb>data table notebook</a>'\n",
              "          + ' to learn more about interactive tables.';\n",
              "        element.innerHTML = '';\n",
              "        dataTable['output_type'] = 'display_data';\n",
              "        await google.colab.output.renderOutput(dataTable, element);\n",
              "        const docLink = document.createElement('div');\n",
              "        docLink.innerHTML = docLinkHtml;\n",
              "        element.appendChild(docLink);\n",
              "      }\n",
              "    </script>\n",
              "  </div>\n",
              "\n",
              "\n",
              "<div id=\"df-f358f92f-dd22-4a79-91b8-4505e1968ed5\">\n",
              "  <button class=\"colab-df-quickchart\" onclick=\"quickchart('df-f358f92f-dd22-4a79-91b8-4505e1968ed5')\"\n",
              "            title=\"Suggest charts\"\n",
              "            style=\"display:none;\">\n",
              "\n",
              "<svg xmlns=\"http://www.w3.org/2000/svg\" height=\"24px\"viewBox=\"0 0 24 24\"\n",
              "     width=\"24px\">\n",
              "    <g>\n",
              "        <path d=\"M19 3H5c-1.1 0-2 .9-2 2v14c0 1.1.9 2 2 2h14c1.1 0 2-.9 2-2V5c0-1.1-.9-2-2-2zM9 17H7v-7h2v7zm4 0h-2V7h2v10zm4 0h-2v-4h2v4z\"/>\n",
              "    </g>\n",
              "</svg>\n",
              "  </button>\n",
              "\n",
              "<style>\n",
              "  .colab-df-quickchart {\n",
              "      --bg-color: #E8F0FE;\n",
              "      --fill-color: #1967D2;\n",
              "      --hover-bg-color: #E2EBFA;\n",
              "      --hover-fill-color: #174EA6;\n",
              "      --disabled-fill-color: #AAA;\n",
              "      --disabled-bg-color: #DDD;\n",
              "  }\n",
              "\n",
              "  [theme=dark] .colab-df-quickchart {\n",
              "      --bg-color: #3B4455;\n",
              "      --fill-color: #D2E3FC;\n",
              "      --hover-bg-color: #434B5C;\n",
              "      --hover-fill-color: #FFFFFF;\n",
              "      --disabled-bg-color: #3B4455;\n",
              "      --disabled-fill-color: #666;\n",
              "  }\n",
              "\n",
              "  .colab-df-quickchart {\n",
              "    background-color: var(--bg-color);\n",
              "    border: none;\n",
              "    border-radius: 50%;\n",
              "    cursor: pointer;\n",
              "    display: none;\n",
              "    fill: var(--fill-color);\n",
              "    height: 32px;\n",
              "    padding: 0;\n",
              "    width: 32px;\n",
              "  }\n",
              "\n",
              "  .colab-df-quickchart:hover {\n",
              "    background-color: var(--hover-bg-color);\n",
              "    box-shadow: 0 1px 2px rgba(60, 64, 67, 0.3), 0 1px 3px 1px rgba(60, 64, 67, 0.15);\n",
              "    fill: var(--button-hover-fill-color);\n",
              "  }\n",
              "\n",
              "  .colab-df-quickchart-complete:disabled,\n",
              "  .colab-df-quickchart-complete:disabled:hover {\n",
              "    background-color: var(--disabled-bg-color);\n",
              "    fill: var(--disabled-fill-color);\n",
              "    box-shadow: none;\n",
              "  }\n",
              "\n",
              "  .colab-df-spinner {\n",
              "    border: 2px solid var(--fill-color);\n",
              "    border-color: transparent;\n",
              "    border-bottom-color: var(--fill-color);\n",
              "    animation:\n",
              "      spin 1s steps(1) infinite;\n",
              "  }\n",
              "\n",
              "  @keyframes spin {\n",
              "    0% {\n",
              "      border-color: transparent;\n",
              "      border-bottom-color: var(--fill-color);\n",
              "      border-left-color: var(--fill-color);\n",
              "    }\n",
              "    20% {\n",
              "      border-color: transparent;\n",
              "      border-left-color: var(--fill-color);\n",
              "      border-top-color: var(--fill-color);\n",
              "    }\n",
              "    30% {\n",
              "      border-color: transparent;\n",
              "      border-left-color: var(--fill-color);\n",
              "      border-top-color: var(--fill-color);\n",
              "      border-right-color: var(--fill-color);\n",
              "    }\n",
              "    40% {\n",
              "      border-color: transparent;\n",
              "      border-right-color: var(--fill-color);\n",
              "      border-top-color: var(--fill-color);\n",
              "    }\n",
              "    60% {\n",
              "      border-color: transparent;\n",
              "      border-right-color: var(--fill-color);\n",
              "    }\n",
              "    80% {\n",
              "      border-color: transparent;\n",
              "      border-right-color: var(--fill-color);\n",
              "      border-bottom-color: var(--fill-color);\n",
              "    }\n",
              "    90% {\n",
              "      border-color: transparent;\n",
              "      border-bottom-color: var(--fill-color);\n",
              "    }\n",
              "  }\n",
              "</style>\n",
              "\n",
              "  <script>\n",
              "    async function quickchart(key) {\n",
              "      const quickchartButtonEl =\n",
              "        document.querySelector('#' + key + ' button');\n",
              "      quickchartButtonEl.disabled = true;  // To prevent multiple clicks.\n",
              "      quickchartButtonEl.classList.add('colab-df-spinner');\n",
              "      try {\n",
              "        const charts = await google.colab.kernel.invokeFunction(\n",
              "            'suggestCharts', [key], {});\n",
              "      } catch (error) {\n",
              "        console.error('Error during call to suggestCharts:', error);\n",
              "      }\n",
              "      quickchartButtonEl.classList.remove('colab-df-spinner');\n",
              "      quickchartButtonEl.classList.add('colab-df-quickchart-complete');\n",
              "    }\n",
              "    (() => {\n",
              "      let quickchartButtonEl =\n",
              "        document.querySelector('#df-f358f92f-dd22-4a79-91b8-4505e1968ed5 button');\n",
              "      quickchartButtonEl.style.display =\n",
              "        google.colab.kernel.accessAllowed ? 'block' : 'none';\n",
              "    })();\n",
              "  </script>\n",
              "</div>\n",
              "\n",
              "    </div>\n",
              "  </div>\n"
            ],
            "application/vnd.google.colaboratory.intrinsic+json": {
              "type": "dataframe",
              "summary": "{\n  \"name\": \"pd\",\n  \"rows\": 2,\n  \"fields\": [\n    {\n      \"column\": \"Predicted Introverted\",\n      \"properties\": {\n        \"dtype\": \"number\",\n        \"std\": 1433,\n        \"min\": 1644,\n        \"max\": 3671,\n        \"num_unique_values\": 2,\n        \"samples\": [\n          3671,\n          1644\n        ],\n        \"semantic_type\": \"\",\n        \"description\": \"\"\n      }\n    },\n    {\n      \"column\": \"Predicted Extroverted\",\n      \"properties\": {\n        \"dtype\": \"number\",\n        \"std\": 3077,\n        \"min\": 3671,\n        \"max\": 8023,\n        \"num_unique_values\": 2,\n        \"samples\": [\n          8023,\n          3671\n        ],\n        \"semantic_type\": \"\",\n        \"description\": \"\"\n      }\n    }\n  ]\n}"
            }
          },
          "metadata": {},
          "execution_count": 176
        }
      ]
    },
    {
      "cell_type": "markdown",
      "source": [
        "# Bag of Words"
      ],
      "metadata": {
        "id": "K60msrQ8uLR7"
      }
    },
    {
      "cell_type": "markdown",
      "source": [
        "Now we'll see if BoW can beat our random model and by how much."
      ],
      "metadata": {
        "id": "FNbsMRqK2krv"
      }
    },
    {
      "cell_type": "markdown",
      "source": [
        "We'll call CountVectorizer and define the minimum number of features to be atleast 200\n",
        "\n",
        "Then fit on the train data and transform\n",
        "\n",
        "Also transform the validation data"
      ],
      "metadata": {
        "id": "VxZVks1yvhVz"
      }
    },
    {
      "cell_type": "code",
      "source": [
        "import numpy as np\n",
        "from sklearn.feature_extraction.text import CountVectorizer\n",
        "from sklearn.model_selection import train_test_split\n",
        "from tensorflow import keras\n",
        "import tensorflow as tf"
      ],
      "metadata": {
        "id": "z92gBQ7f2L3H"
      },
      "execution_count": null,
      "outputs": []
    },
    {
      "cell_type": "markdown",
      "source": [
        "Transforming the batch dataset to datasets in order to tokenize\n",
        "\n",
        "Also, changing the labels to:\n",
        "\n",
        "\n",
        "*   Introverted -> 1\n",
        "*   Extroverted -> 0"
      ],
      "metadata": {
        "id": "vOwm6Q1p2Ph6"
      }
    },
    {
      "cell_type": "code",
      "source": [
        "def get_texts_and_labels(datasetBatch):\n",
        "    texts = []\n",
        "    labels = []\n",
        "    for text, label in datasetBatch:\n",
        "        texts.extend(text.numpy())\n",
        "        labels.extend(label.numpy())\n",
        "    return texts, labels\n",
        "\n",
        "train_texts, train_labels = get_texts_and_labels(train_ds)\n",
        "val_texts, val_labels = get_texts_and_labels(validation_ds)\n",
        "test_texts, test_labels = get_texts_and_labels(test_ds)\n"
      ],
      "metadata": {
        "id": "ctJwvUcK0oGJ"
      },
      "execution_count": null,
      "outputs": []
    },
    {
      "cell_type": "markdown",
      "source": [
        "Vectorizing texts. The model will use the 1000 most common words to predict"
      ],
      "metadata": {
        "id": "KVhwxYuI31_l"
      }
    },
    {
      "cell_type": "code",
      "source": [
        "for num_tokens in [500, 1000, 2000]:\n",
        "    vectorizer = keras.layers.TextVectorization(max_tokens=1000, output_mode='tf-idf')\n",
        "    vectorizer.adapt(train_texts)\n",
        "\n",
        "    X_train = vectorizer(train_texts)\n",
        "    X_val = vectorizer(val_texts)\n",
        "    X_test = vectorizer(test_texts)\n",
        "\n",
        "    y_train = np.array(train_labels)\n",
        "    y_val = np.array(val_labels)\n",
        "    y_test = np.array(test_labels)\n",
        "\n",
        "\n"
      ],
      "metadata": {
        "id": "-Pw5c3zV3ky0"
      },
      "execution_count": null,
      "outputs": []
    },
    {
      "cell_type": "markdown",
      "source": [
        "Defining the nn layers for binary classification\n"
      ],
      "metadata": {
        "id": "aa2FjBjf3nMT"
      }
    },
    {
      "cell_type": "code",
      "source": [
        "def build_BoW_model(dense1_units, dense2_units):\n",
        "    inputs = keras.layers.Input(shape=(X_train.shape[1],), name='input_layer')\n",
        "    net = keras.layers.Dense(dense1_units, activation='relu', input_shape=(X_train.shape[1],), name='dense1')(inputs)\n",
        "    net = keras.layers.Dropout(0.3, name='dropout1')(net)\n",
        "    net = keras.layers.Dense(dense2_units, activation='relu', name='dense2')(net)\n",
        "    net = keras.layers.Dropout(0.3, name='dropout2')(net)\n",
        "    outputs = keras.layers.Dense(1, activation='sigmoid', name='sigmoid')(net)\n",
        "    model = keras.Model(inputs=inputs, outputs=outputs)\n",
        "\n",
        "    return model"
      ],
      "metadata": {
        "id": "9mxEb53s3gu6"
      },
      "execution_count": null,
      "outputs": []
    },
    {
      "cell_type": "markdown",
      "source": [
        "# Trying different hyperparams"
      ],
      "metadata": {
        "id": "6NXJZrypuO-I"
      }
    },
    {
      "cell_type": "markdown",
      "source": [
        "Trying different sizes of layers"
      ],
      "metadata": {
        "id": "U6NVLTgIDSxH"
      }
    },
    {
      "cell_type": "code",
      "source": [
        "for dense1 in [32, 256]:\n",
        "    for dense2 in [32, 128]:\n",
        "            BoW_model = build_BoW_model(dense1, dense2)\n",
        "            BoW_model.compile(loss='binary_crossentropy',\n",
        "                        optimizer='adam',\n",
        "                        metrics=['accuracy'])\n",
        "\n",
        "            history = BoW_model.fit(X_train, y_train, verbose=0,\n",
        "                                batch_size=32, epochs=10,\n",
        "                                validation_data=(X_val, y_val))\n",
        "            print(dense1, dense2, \"Accuracy:\", BoW_model.evaluate(X_test, y_test)[1])"
      ],
      "metadata": {
        "colab": {
          "base_uri": "https://localhost:8080/"
        },
        "id": "tECgVYVX_bd6",
        "outputId": "602daa18-eccd-4a79-806a-c8809586d7cb"
      },
      "execution_count": null,
      "outputs": [
        {
          "output_type": "stream",
          "name": "stdout",
          "text": [
            "217/217 [==============================] - 0s 2ms/step - loss: 0.4510 - accuracy: 0.7858\n",
            "32 32 Accuracy: 0.7857761383056641\n",
            "217/217 [==============================] - 0s 2ms/step - loss: 0.4390 - accuracy: 0.7962\n",
            "32 128 Accuracy: 0.7961627244949341\n",
            "217/217 [==============================] - 0s 2ms/step - loss: 0.3950 - accuracy: 0.8139\n",
            "256 32 Accuracy: 0.8139064908027649\n",
            "217/217 [==============================] - 0s 2ms/step - loss: 0.3573 - accuracy: 0.8368\n",
            "256 128 Accuracy: 0.8368436098098755\n"
          ]
        }
      ]
    },
    {
      "cell_type": "markdown",
      "source": [
        "We'll choose 256 neurons in first dense layer and 128 neurons in second dense layer."
      ],
      "metadata": {
        "id": "qFz5C_M-4QbN"
      }
    },
    {
      "cell_type": "code",
      "source": [
        "BoW_model = build_BoW_model(256, 128)\n",
        "BoW_model.compile(loss='binary_crossentropy',\n",
        "            optimizer='adam',\n",
        "            metrics=['accuracy'])"
      ],
      "metadata": {
        "id": "xXjLfmFySjD3"
      },
      "execution_count": null,
      "outputs": []
    },
    {
      "cell_type": "markdown",
      "source": [
        "Checking best max_tokens, ngrams"
      ],
      "metadata": {
        "id": "ndPAaWGyy713"
      }
    },
    {
      "cell_type": "markdown",
      "source": [
        "Trying different ngrams:"
      ],
      "metadata": {
        "id": "SrWv0D_Y6j-c"
      }
    },
    {
      "cell_type": "code",
      "source": [
        "vectorizer = keras.layers.TextVectorization(max_tokens=1000, output_mode='tf_idf', ngrams=1)\n",
        "vectorizer.adapt(train_texts)\n",
        "\n",
        "X_train = vectorizer(train_texts)\n",
        "X_val = vectorizer(val_texts)\n",
        "X_test = vectorizer(test_texts)\n",
        "\n",
        "y_train = np.array(train_labels)\n",
        "y_val = np.array(val_labels)\n",
        "y_test = np.array(test_labels)\n",
        "\n",
        "history = BoW_model.fit(X_train, y_train, verbose=0,\n",
        "                        batch_size=32, epochs=10,\n",
        "                        validation_data=(X_val, y_val))\n",
        "print(\"Best Accuracy:\", BoW_model.evaluate(X_test, y_test)[1])"
      ],
      "metadata": {
        "colab": {
          "base_uri": "https://localhost:8080/"
        },
        "id": "ax9oMrluy5c1",
        "outputId": "aa794a9c-2fa0-415b-ae07-376ada1e02d5"
      },
      "execution_count": null,
      "outputs": [
        {
          "output_type": "stream",
          "name": "stdout",
          "text": [
            "217/217 [==============================] - 0s 2ms/step - loss: 0.3518 - accuracy: 0.8426\n",
            "Best Accuracy: 0.842613935470581\n"
          ]
        }
      ]
    },
    {
      "cell_type": "markdown",
      "source": [
        "1000 tokens and 2-grams"
      ],
      "metadata": {
        "id": "24u-jhJH_OiW"
      }
    },
    {
      "cell_type": "code",
      "source": [
        "vectorizer = keras.layers.TextVectorization(max_tokens=1000, output_mode='tf_idf', ngrams=2)\n",
        "vectorizer.adapt(train_texts)\n",
        "\n",
        "X_train = vectorizer(train_texts)\n",
        "X_val = vectorizer(val_texts)\n",
        "X_test = vectorizer(test_texts)\n",
        "\n",
        "y_train = np.array(train_labels)\n",
        "y_val = np.array(val_labels)\n",
        "y_test = np.array(test_labels)\n",
        "\n",
        "history = BoW_model.fit(X_train, y_train, verbose=0,\n",
        "                        batch_size=32, epochs=10,\n",
        "                        validation_data=(X_val, y_val))\n",
        "print(ngrams,  \"Accuracy:\", BoW_model.evaluate(X_test, y_test)[1])"
      ],
      "metadata": {
        "colab": {
          "base_uri": "https://localhost:8080/"
        },
        "id": "K3IjA5Ct5uQe",
        "outputId": "a8c4b9bb-4311-4d28-cab6-bc5eb270b893"
      },
      "execution_count": null,
      "outputs": [
        {
          "output_type": "stream",
          "name": "stdout",
          "text": [
            "217/217 [==============================] - 0s 2ms/step - loss: 0.5037 - accuracy: 0.7582\n",
            "1 Accuracy: 0.758222758769989\n"
          ]
        }
      ]
    },
    {
      "cell_type": "markdown",
      "source": [
        "**Our best model:** 87% accuracy\n",
        "\n",
        "Trying feeding 2000 tokens with 1-grams to the nn"
      ],
      "metadata": {
        "id": "-uVQ3kHr63Db"
      }
    },
    {
      "cell_type": "code",
      "source": [
        "vectorizer = keras.layers.TextVectorization(max_tokens=2000, output_mode='tf_idf', ngrams=1)\n",
        "vectorizer.adapt(train_texts)\n",
        "\n",
        "X_train = vectorizer(train_texts)\n",
        "X_val = vectorizer(val_texts)\n",
        "X_test = vectorizer(test_texts)\n",
        "\n",
        "y_train = np.array(train_labels)\n",
        "y_val = np.array(val_labels)\n",
        "y_test = np.array(test_labels)\n",
        "\n",
        "history = BoW_model.fit(X_train, y_train, verbose=1,\n",
        "                        batch_size=32, epochs=10,\n",
        "                        validation_data=(X_val, y_val))\n",
        "print(\"Accuracy:\", BoW_model.evaluate(X_test, y_test)[1])"
      ],
      "metadata": {
        "colab": {
          "base_uri": "https://localhost:8080/"
        },
        "id": "1tWerwBg60NS",
        "outputId": "d80fc5ee-4324-4e61-94a5-64f130da439b"
      },
      "execution_count": null,
      "outputs": [
        {
          "output_type": "stream",
          "name": "stdout",
          "text": [
            "Epoch 1/10\n",
            "498/498 [==============================] - 6s 11ms/step - loss: 0.6621 - accuracy: 0.6738 - val_loss: 0.5820 - val_accuracy: 0.7058\n",
            "Epoch 2/10\n",
            "498/498 [==============================] - 6s 11ms/step - loss: 0.5901 - accuracy: 0.7008 - val_loss: 0.5300 - val_accuracy: 0.7380\n",
            "Epoch 3/10\n",
            "498/498 [==============================] - 5s 9ms/step - loss: 0.5406 - accuracy: 0.7307 - val_loss: 0.4810 - val_accuracy: 0.7558\n",
            "Epoch 4/10\n",
            "498/498 [==============================] - 5s 10ms/step - loss: 0.4917 - accuracy: 0.7578 - val_loss: 0.4242 - val_accuracy: 0.8025\n",
            "Epoch 5/10\n",
            "498/498 [==============================] - 5s 11ms/step - loss: 0.4322 - accuracy: 0.7905 - val_loss: 0.3782 - val_accuracy: 0.8299\n",
            "Epoch 6/10\n",
            "498/498 [==============================] - 5s 10ms/step - loss: 0.3790 - accuracy: 0.8223 - val_loss: 0.3402 - val_accuracy: 0.8466\n",
            "Epoch 7/10\n",
            "498/498 [==============================] - 6s 11ms/step - loss: 0.3265 - accuracy: 0.8454 - val_loss: 0.3144 - val_accuracy: 0.8571\n",
            "Epoch 8/10\n",
            "498/498 [==============================] - 5s 10ms/step - loss: 0.2929 - accuracy: 0.8629 - val_loss: 0.3082 - val_accuracy: 0.8592\n",
            "Epoch 9/10\n",
            "498/498 [==============================] - 6s 12ms/step - loss: 0.2644 - accuracy: 0.8710 - val_loss: 0.3057 - val_accuracy: 0.8662\n",
            "Epoch 10/10\n",
            "498/498 [==============================] - 5s 9ms/step - loss: 0.2460 - accuracy: 0.8797 - val_loss: 0.2923 - val_accuracy: 0.8724\n",
            "217/217 [==============================] - 1s 4ms/step - loss: 0.3089 - accuracy: 0.8718\n",
            "Accuracy: 0.8717541694641113\n"
          ]
        }
      ]
    },
    {
      "cell_type": "markdown",
      "source": [
        "Worst results so far: 78% accuracy"
      ],
      "metadata": {
        "id": "5wt3Kktv-2wb"
      }
    },
    {
      "cell_type": "code",
      "source": [
        "vectorizer = keras.layers.TextVectorization(max_tokens=500, output_mode='tf_idf', ngrams=1)\n",
        "vectorizer.adapt(train_texts)\n",
        "\n",
        "X_train = vectorizer(train_texts)\n",
        "X_val = vectorizer(val_texts)\n",
        "X_test = vectorizer(test_texts)\n",
        "\n",
        "y_train = np.array(train_labels)\n",
        "y_val = np.array(val_labels)\n",
        "y_test = np.array(test_labels)\n",
        "\n",
        "history = BoW_model.fit(X_train, y_train, verbose=0,\n",
        "                        batch_size=32, epochs=10,\n",
        "                        validation_data=(X_val, y_val))\n",
        "print(\"Accuracy:\", BoW_model.evaluate(X_test, y_test)[1])"
      ],
      "metadata": {
        "colab": {
          "base_uri": "https://localhost:8080/"
        },
        "id": "hkBUgrX6778m",
        "outputId": "692e241a-84aa-46df-f61a-689635e4ed8d"
      },
      "execution_count": null,
      "outputs": [
        {
          "output_type": "stream",
          "name": "stdout",
          "text": [
            "217/217 [==============================] - 0s 2ms/step - loss: 0.4383 - accuracy: 0.7874\n",
            "Accuracy: 0.7873629331588745\n"
          ]
        }
      ]
    },
    {
      "cell_type": "code",
      "source": [
        "plot_model(BoW_model, show_layer_names=True, show_layer_activations=True)"
      ],
      "metadata": {
        "id": "s6trydSPBH2Q",
        "colab": {
          "base_uri": "https://localhost:8080/",
          "height": 604
        },
        "outputId": "75dc7050-944f-4f11-f644-194878a30abb"
      },
      "execution_count": null,
      "outputs": [
        {
          "output_type": "execute_result",
          "data": {
            "image/png": "[encoded data removed]",
            "text/plain": [
              "<IPython.core.display.Image object>"
            ]
          },
          "metadata": {},
          "execution_count": 202
        }
      ]
    },
    {
      "cell_type": "code",
      "source": [],
      "metadata": {
        "id": "L8JGMvYoL1m6"
      },
      "execution_count": null,
      "outputs": []
    }
  ]
}